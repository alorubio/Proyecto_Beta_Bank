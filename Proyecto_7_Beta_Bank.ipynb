{
 "cells": [
  {
   "cell_type": "markdown",
   "metadata": {},
   "source": [
    "# Descripción del proyecto \n",
    "\n",
    "## Objetivo\n",
    "\n",
    "Los clientes de Beta Bank se están yendo, cada mes, poco a poco. Los banqueros descubrieron que es más barato salvar a los clientes existentes que atraer nuevos.\n",
    "\n",
    "Es necesario predecir si un cliente dejará el banco pronto. Se tienen los datos sobre el comportamiento pasado de los clientes y la terminación de contratos con el banco.\n",
    "\n",
    "Crea un modelo con el máximo valor F1 posible. Para aprobar la revisión, necesitas un valor F1 de al menos 0.59. Verifica F1 para el conjunto de prueba. \n",
    "\n",
    "Además, debes medir la métrica AUC-ROC y compararla con el valor F1."
   ]
  },
  {
   "cell_type": "code",
   "execution_count": 1,
   "metadata": {},
   "outputs": [],
   "source": [
    "#Se importan las librerías\n",
    "\n",
    "import pandas as pd\n",
    "import numpy as np\n",
    "import matplotlib.pyplot as plt\n",
    "from sklearn.model_selection import train_test_split\n",
    "from sklearn.linear_model import LogisticRegression\n",
    "from sklearn.metrics import f1_score\n",
    "from sklearn.preprocessing import StandardScaler\n",
    "from sklearn.preprocessing import OrdinalEncoder\n",
    "from sklearn.metrics import confusion_matrix\n",
    "from sklearn.metrics import recall_score\n",
    "from sklearn.metrics import precision_score\n",
    "from sklearn.inspection import permutation_importance\n",
    "from sklearn.metrics import classification_report\n",
    "from sklearn.metrics import accuracy_score\n",
    "from sklearn.metrics import roc_curve\n",
    "from sklearn.metrics import roc_auc_score\n",
    "from sklearn.tree import DecisionTreeClassifier"
   ]
  },
  {
   "cell_type": "code",
   "execution_count": 2,
   "metadata": {},
   "outputs": [
    {
     "name": "stdout",
     "output_type": "stream",
     "text": [
      "<class 'pandas.core.frame.DataFrame'>\n",
      "RangeIndex: 10000 entries, 0 to 9999\n",
      "Data columns (total 14 columns):\n",
      " #   Column           Non-Null Count  Dtype  \n",
      "---  ------           --------------  -----  \n",
      " 0   RowNumber        10000 non-null  int64  \n",
      " 1   CustomerId       10000 non-null  int64  \n",
      " 2   Surname          10000 non-null  object \n",
      " 3   CreditScore      10000 non-null  int64  \n",
      " 4   Geography        10000 non-null  object \n",
      " 5   Gender           10000 non-null  object \n",
      " 6   Age              10000 non-null  int64  \n",
      " 7   Tenure           9091 non-null   float64\n",
      " 8   Balance          10000 non-null  float64\n",
      " 9   NumOfProducts    10000 non-null  int64  \n",
      " 10  HasCrCard        10000 non-null  int64  \n",
      " 11  IsActiveMember   10000 non-null  int64  \n",
      " 12  EstimatedSalary  10000 non-null  float64\n",
      " 13  Exited           10000 non-null  int64  \n",
      "dtypes: float64(3), int64(8), object(3)\n",
      "memory usage: 1.1+ MB\n"
     ]
    }
   ],
   "source": [
    "#Se carga el dataset con el que se estará desarrollando el modelo\n",
    "\n",
    "data = pd.read_csv('/datasets/Churn.csv')\n",
    "\n",
    "pd.options.mode.chained_assignment = None\n",
    "\n",
    "data.info()"
   ]
  },
  {
   "cell_type": "code",
   "execution_count": 3,
   "metadata": {
    "scrolled": true
   },
   "outputs": [
    {
     "data": {
      "text/html": [
       "<div>\n",
       "<style scoped>\n",
       "    .dataframe tbody tr th:only-of-type {\n",
       "        vertical-align: middle;\n",
       "    }\n",
       "\n",
       "    .dataframe tbody tr th {\n",
       "        vertical-align: top;\n",
       "    }\n",
       "\n",
       "    .dataframe thead th {\n",
       "        text-align: right;\n",
       "    }\n",
       "</style>\n",
       "<table border=\"1\" class=\"dataframe\">\n",
       "  <thead>\n",
       "    <tr style=\"text-align: right;\">\n",
       "      <th></th>\n",
       "      <th>RowNumber</th>\n",
       "      <th>CustomerId</th>\n",
       "      <th>Surname</th>\n",
       "      <th>CreditScore</th>\n",
       "      <th>Geography</th>\n",
       "      <th>Gender</th>\n",
       "      <th>Age</th>\n",
       "      <th>Tenure</th>\n",
       "      <th>Balance</th>\n",
       "      <th>NumOfProducts</th>\n",
       "      <th>HasCrCard</th>\n",
       "      <th>IsActiveMember</th>\n",
       "      <th>EstimatedSalary</th>\n",
       "      <th>Exited</th>\n",
       "    </tr>\n",
       "  </thead>\n",
       "  <tbody>\n",
       "    <tr>\n",
       "      <th>0</th>\n",
       "      <td>1</td>\n",
       "      <td>15634602</td>\n",
       "      <td>Hargrave</td>\n",
       "      <td>619</td>\n",
       "      <td>France</td>\n",
       "      <td>Female</td>\n",
       "      <td>42</td>\n",
       "      <td>2.0</td>\n",
       "      <td>0.00</td>\n",
       "      <td>1</td>\n",
       "      <td>1</td>\n",
       "      <td>1</td>\n",
       "      <td>101348.88</td>\n",
       "      <td>1</td>\n",
       "    </tr>\n",
       "    <tr>\n",
       "      <th>1</th>\n",
       "      <td>2</td>\n",
       "      <td>15647311</td>\n",
       "      <td>Hill</td>\n",
       "      <td>608</td>\n",
       "      <td>Spain</td>\n",
       "      <td>Female</td>\n",
       "      <td>41</td>\n",
       "      <td>1.0</td>\n",
       "      <td>83807.86</td>\n",
       "      <td>1</td>\n",
       "      <td>0</td>\n",
       "      <td>1</td>\n",
       "      <td>112542.58</td>\n",
       "      <td>0</td>\n",
       "    </tr>\n",
       "    <tr>\n",
       "      <th>2</th>\n",
       "      <td>3</td>\n",
       "      <td>15619304</td>\n",
       "      <td>Onio</td>\n",
       "      <td>502</td>\n",
       "      <td>France</td>\n",
       "      <td>Female</td>\n",
       "      <td>42</td>\n",
       "      <td>8.0</td>\n",
       "      <td>159660.80</td>\n",
       "      <td>3</td>\n",
       "      <td>1</td>\n",
       "      <td>0</td>\n",
       "      <td>113931.57</td>\n",
       "      <td>1</td>\n",
       "    </tr>\n",
       "    <tr>\n",
       "      <th>3</th>\n",
       "      <td>4</td>\n",
       "      <td>15701354</td>\n",
       "      <td>Boni</td>\n",
       "      <td>699</td>\n",
       "      <td>France</td>\n",
       "      <td>Female</td>\n",
       "      <td>39</td>\n",
       "      <td>1.0</td>\n",
       "      <td>0.00</td>\n",
       "      <td>2</td>\n",
       "      <td>0</td>\n",
       "      <td>0</td>\n",
       "      <td>93826.63</td>\n",
       "      <td>0</td>\n",
       "    </tr>\n",
       "    <tr>\n",
       "      <th>4</th>\n",
       "      <td>5</td>\n",
       "      <td>15737888</td>\n",
       "      <td>Mitchell</td>\n",
       "      <td>850</td>\n",
       "      <td>Spain</td>\n",
       "      <td>Female</td>\n",
       "      <td>43</td>\n",
       "      <td>2.0</td>\n",
       "      <td>125510.82</td>\n",
       "      <td>1</td>\n",
       "      <td>1</td>\n",
       "      <td>1</td>\n",
       "      <td>79084.10</td>\n",
       "      <td>0</td>\n",
       "    </tr>\n",
       "    <tr>\n",
       "      <th>5</th>\n",
       "      <td>6</td>\n",
       "      <td>15574012</td>\n",
       "      <td>Chu</td>\n",
       "      <td>645</td>\n",
       "      <td>Spain</td>\n",
       "      <td>Male</td>\n",
       "      <td>44</td>\n",
       "      <td>8.0</td>\n",
       "      <td>113755.78</td>\n",
       "      <td>2</td>\n",
       "      <td>1</td>\n",
       "      <td>0</td>\n",
       "      <td>149756.71</td>\n",
       "      <td>1</td>\n",
       "    </tr>\n",
       "    <tr>\n",
       "      <th>6</th>\n",
       "      <td>7</td>\n",
       "      <td>15592531</td>\n",
       "      <td>Bartlett</td>\n",
       "      <td>822</td>\n",
       "      <td>France</td>\n",
       "      <td>Male</td>\n",
       "      <td>50</td>\n",
       "      <td>7.0</td>\n",
       "      <td>0.00</td>\n",
       "      <td>2</td>\n",
       "      <td>1</td>\n",
       "      <td>1</td>\n",
       "      <td>10062.80</td>\n",
       "      <td>0</td>\n",
       "    </tr>\n",
       "    <tr>\n",
       "      <th>7</th>\n",
       "      <td>8</td>\n",
       "      <td>15656148</td>\n",
       "      <td>Obinna</td>\n",
       "      <td>376</td>\n",
       "      <td>Germany</td>\n",
       "      <td>Female</td>\n",
       "      <td>29</td>\n",
       "      <td>4.0</td>\n",
       "      <td>115046.74</td>\n",
       "      <td>4</td>\n",
       "      <td>1</td>\n",
       "      <td>0</td>\n",
       "      <td>119346.88</td>\n",
       "      <td>1</td>\n",
       "    </tr>\n",
       "    <tr>\n",
       "      <th>8</th>\n",
       "      <td>9</td>\n",
       "      <td>15792365</td>\n",
       "      <td>He</td>\n",
       "      <td>501</td>\n",
       "      <td>France</td>\n",
       "      <td>Male</td>\n",
       "      <td>44</td>\n",
       "      <td>4.0</td>\n",
       "      <td>142051.07</td>\n",
       "      <td>2</td>\n",
       "      <td>0</td>\n",
       "      <td>1</td>\n",
       "      <td>74940.50</td>\n",
       "      <td>0</td>\n",
       "    </tr>\n",
       "    <tr>\n",
       "      <th>9</th>\n",
       "      <td>10</td>\n",
       "      <td>15592389</td>\n",
       "      <td>H?</td>\n",
       "      <td>684</td>\n",
       "      <td>France</td>\n",
       "      <td>Male</td>\n",
       "      <td>27</td>\n",
       "      <td>2.0</td>\n",
       "      <td>134603.88</td>\n",
       "      <td>1</td>\n",
       "      <td>1</td>\n",
       "      <td>1</td>\n",
       "      <td>71725.73</td>\n",
       "      <td>0</td>\n",
       "    </tr>\n",
       "  </tbody>\n",
       "</table>\n",
       "</div>"
      ],
      "text/plain": [
       "   RowNumber  CustomerId   Surname  CreditScore Geography  Gender  Age  \\\n",
       "0          1    15634602  Hargrave          619    France  Female   42   \n",
       "1          2    15647311      Hill          608     Spain  Female   41   \n",
       "2          3    15619304      Onio          502    France  Female   42   \n",
       "3          4    15701354      Boni          699    France  Female   39   \n",
       "4          5    15737888  Mitchell          850     Spain  Female   43   \n",
       "5          6    15574012       Chu          645     Spain    Male   44   \n",
       "6          7    15592531  Bartlett          822    France    Male   50   \n",
       "7          8    15656148    Obinna          376   Germany  Female   29   \n",
       "8          9    15792365        He          501    France    Male   44   \n",
       "9         10    15592389        H?          684    France    Male   27   \n",
       "\n",
       "   Tenure    Balance  NumOfProducts  HasCrCard  IsActiveMember  \\\n",
       "0     2.0       0.00              1          1               1   \n",
       "1     1.0   83807.86              1          0               1   \n",
       "2     8.0  159660.80              3          1               0   \n",
       "3     1.0       0.00              2          0               0   \n",
       "4     2.0  125510.82              1          1               1   \n",
       "5     8.0  113755.78              2          1               0   \n",
       "6     7.0       0.00              2          1               1   \n",
       "7     4.0  115046.74              4          1               0   \n",
       "8     4.0  142051.07              2          0               1   \n",
       "9     2.0  134603.88              1          1               1   \n",
       "\n",
       "   EstimatedSalary  Exited  \n",
       "0        101348.88       1  \n",
       "1        112542.58       0  \n",
       "2        113931.57       1  \n",
       "3         93826.63       0  \n",
       "4         79084.10       0  \n",
       "5        149756.71       1  \n",
       "6         10062.80       0  \n",
       "7        119346.88       1  \n",
       "8         74940.50       0  \n",
       "9         71725.73       0  "
      ]
     },
     "execution_count": 3,
     "metadata": {},
     "output_type": "execute_result"
    }
   ],
   "source": [
    "#Se examina la información del dataset, para conocer la información que se tiene, y de que manera se encuentra la información\n",
    "#para saber como trabajarla\n",
    "\n",
    "data.head(10)"
   ]
  },
  {
   "cell_type": "code",
   "execution_count": 4,
   "metadata": {},
   "outputs": [
    {
     "name": "stdout",
     "output_type": "stream",
     "text": [
      "<class 'pandas.core.frame.DataFrame'>\n",
      "RangeIndex: 10000 entries, 0 to 9999\n",
      "Data columns (total 14 columns):\n",
      " #   Column           Non-Null Count  Dtype  \n",
      "---  ------           --------------  -----  \n",
      " 0   RowNumber        10000 non-null  int64  \n",
      " 1   CustomerId       10000 non-null  int64  \n",
      " 2   Surname          10000 non-null  object \n",
      " 3   CreditScore      10000 non-null  int64  \n",
      " 4   Geography        10000 non-null  object \n",
      " 5   Gender           10000 non-null  object \n",
      " 6   Age              10000 non-null  int64  \n",
      " 7   Tenure           10000 non-null  float64\n",
      " 8   Balance          10000 non-null  float64\n",
      " 9   NumOfProducts    10000 non-null  int64  \n",
      " 10  HasCrCard        10000 non-null  int64  \n",
      " 11  IsActiveMember   10000 non-null  int64  \n",
      " 12  EstimatedSalary  10000 non-null  float64\n",
      " 13  Exited           10000 non-null  int64  \n",
      "dtypes: float64(3), int64(8), object(3)\n",
      "memory usage: 1.1+ MB\n"
     ]
    }
   ],
   "source": [
    "#Se tratan los valores nulos que existen en el dataset\n",
    "\n",
    "tenure_avg = data['Tenure'].mean()\n",
    "data['Tenure'] = data['Tenure'].fillna(tenure_avg)\n",
    "data.info()"
   ]
  },
  {
   "cell_type": "code",
   "execution_count": 5,
   "metadata": {},
   "outputs": [
    {
     "data": {
      "text/html": [
       "<div>\n",
       "<style scoped>\n",
       "    .dataframe tbody tr th:only-of-type {\n",
       "        vertical-align: middle;\n",
       "    }\n",
       "\n",
       "    .dataframe tbody tr th {\n",
       "        vertical-align: top;\n",
       "    }\n",
       "\n",
       "    .dataframe thead th {\n",
       "        text-align: right;\n",
       "    }\n",
       "</style>\n",
       "<table border=\"1\" class=\"dataframe\">\n",
       "  <thead>\n",
       "    <tr style=\"text-align: right;\">\n",
       "      <th></th>\n",
       "      <th>CreditScore</th>\n",
       "      <th>Geography</th>\n",
       "      <th>Gender</th>\n",
       "      <th>Age</th>\n",
       "      <th>Tenure</th>\n",
       "      <th>Balance</th>\n",
       "      <th>NumOfProducts</th>\n",
       "      <th>HasCrCard</th>\n",
       "      <th>IsActiveMember</th>\n",
       "      <th>EstimatedSalary</th>\n",
       "      <th>Exited</th>\n",
       "    </tr>\n",
       "  </thead>\n",
       "  <tbody>\n",
       "    <tr>\n",
       "      <th>9041</th>\n",
       "      <td>513</td>\n",
       "      <td>Germany</td>\n",
       "      <td>Female</td>\n",
       "      <td>49</td>\n",
       "      <td>4.99769</td>\n",
       "      <td>171601.27</td>\n",
       "      <td>1</td>\n",
       "      <td>1</td>\n",
       "      <td>0</td>\n",
       "      <td>126223.84</td>\n",
       "      <td>0</td>\n",
       "    </tr>\n",
       "    <tr>\n",
       "      <th>9994</th>\n",
       "      <td>800</td>\n",
       "      <td>France</td>\n",
       "      <td>Female</td>\n",
       "      <td>29</td>\n",
       "      <td>2.00000</td>\n",
       "      <td>0.00</td>\n",
       "      <td>2</td>\n",
       "      <td>0</td>\n",
       "      <td>0</td>\n",
       "      <td>167773.55</td>\n",
       "      <td>0</td>\n",
       "    </tr>\n",
       "    <tr>\n",
       "      <th>1091</th>\n",
       "      <td>732</td>\n",
       "      <td>France</td>\n",
       "      <td>Male</td>\n",
       "      <td>36</td>\n",
       "      <td>7.00000</td>\n",
       "      <td>126195.81</td>\n",
       "      <td>1</td>\n",
       "      <td>1</td>\n",
       "      <td>1</td>\n",
       "      <td>133172.48</td>\n",
       "      <td>0</td>\n",
       "    </tr>\n",
       "    <tr>\n",
       "      <th>611</th>\n",
       "      <td>650</td>\n",
       "      <td>France</td>\n",
       "      <td>Female</td>\n",
       "      <td>27</td>\n",
       "      <td>6.00000</td>\n",
       "      <td>0.00</td>\n",
       "      <td>2</td>\n",
       "      <td>1</td>\n",
       "      <td>0</td>\n",
       "      <td>1002.39</td>\n",
       "      <td>0</td>\n",
       "    </tr>\n",
       "    <tr>\n",
       "      <th>2867</th>\n",
       "      <td>559</td>\n",
       "      <td>Spain</td>\n",
       "      <td>Female</td>\n",
       "      <td>27</td>\n",
       "      <td>1.00000</td>\n",
       "      <td>0.00</td>\n",
       "      <td>1</td>\n",
       "      <td>0</td>\n",
       "      <td>1</td>\n",
       "      <td>1050.33</td>\n",
       "      <td>0</td>\n",
       "    </tr>\n",
       "    <tr>\n",
       "      <th>284</th>\n",
       "      <td>799</td>\n",
       "      <td>France</td>\n",
       "      <td>Female</td>\n",
       "      <td>22</td>\n",
       "      <td>8.00000</td>\n",
       "      <td>174185.98</td>\n",
       "      <td>2</td>\n",
       "      <td>0</td>\n",
       "      <td>1</td>\n",
       "      <td>192633.85</td>\n",
       "      <td>0</td>\n",
       "    </tr>\n",
       "    <tr>\n",
       "      <th>9170</th>\n",
       "      <td>694</td>\n",
       "      <td>France</td>\n",
       "      <td>Male</td>\n",
       "      <td>30</td>\n",
       "      <td>2.00000</td>\n",
       "      <td>0.00</td>\n",
       "      <td>3</td>\n",
       "      <td>0</td>\n",
       "      <td>1</td>\n",
       "      <td>15039.41</td>\n",
       "      <td>0</td>\n",
       "    </tr>\n",
       "    <tr>\n",
       "      <th>8881</th>\n",
       "      <td>744</td>\n",
       "      <td>France</td>\n",
       "      <td>Male</td>\n",
       "      <td>29</td>\n",
       "      <td>1.00000</td>\n",
       "      <td>43504.42</td>\n",
       "      <td>1</td>\n",
       "      <td>1</td>\n",
       "      <td>1</td>\n",
       "      <td>119327.75</td>\n",
       "      <td>0</td>\n",
       "    </tr>\n",
       "    <tr>\n",
       "      <th>2823</th>\n",
       "      <td>668</td>\n",
       "      <td>Germany</td>\n",
       "      <td>Female</td>\n",
       "      <td>59</td>\n",
       "      <td>5.00000</td>\n",
       "      <td>120170.07</td>\n",
       "      <td>1</td>\n",
       "      <td>0</td>\n",
       "      <td>1</td>\n",
       "      <td>50454.80</td>\n",
       "      <td>0</td>\n",
       "    </tr>\n",
       "    <tr>\n",
       "      <th>9432</th>\n",
       "      <td>458</td>\n",
       "      <td>Germany</td>\n",
       "      <td>Female</td>\n",
       "      <td>28</td>\n",
       "      <td>4.99769</td>\n",
       "      <td>171932.26</td>\n",
       "      <td>2</td>\n",
       "      <td>1</td>\n",
       "      <td>1</td>\n",
       "      <td>9578.24</td>\n",
       "      <td>0</td>\n",
       "    </tr>\n",
       "  </tbody>\n",
       "</table>\n",
       "</div>"
      ],
      "text/plain": [
       "      CreditScore Geography  Gender  Age   Tenure    Balance  NumOfProducts  \\\n",
       "9041          513   Germany  Female   49  4.99769  171601.27              1   \n",
       "9994          800    France  Female   29  2.00000       0.00              2   \n",
       "1091          732    France    Male   36  7.00000  126195.81              1   \n",
       "611           650    France  Female   27  6.00000       0.00              2   \n",
       "2867          559     Spain  Female   27  1.00000       0.00              1   \n",
       "284           799    France  Female   22  8.00000  174185.98              2   \n",
       "9170          694    France    Male   30  2.00000       0.00              3   \n",
       "8881          744    France    Male   29  1.00000   43504.42              1   \n",
       "2823          668   Germany  Female   59  5.00000  120170.07              1   \n",
       "9432          458   Germany  Female   28  4.99769  171932.26              2   \n",
       "\n",
       "      HasCrCard  IsActiveMember  EstimatedSalary  Exited  \n",
       "9041          1               0        126223.84       0  \n",
       "9994          0               0        167773.55       0  \n",
       "1091          1               1        133172.48       0  \n",
       "611           1               0          1002.39       0  \n",
       "2867          0               1          1050.33       0  \n",
       "284           0               1        192633.85       0  \n",
       "9170          0               1         15039.41       0  \n",
       "8881          1               1        119327.75       0  \n",
       "2823          0               1         50454.80       0  \n",
       "9432          1               1          9578.24       0  "
      ]
     },
     "execution_count": 5,
     "metadata": {},
     "output_type": "execute_result"
    }
   ],
   "source": [
    "#Se remueven las columnas que se considera que no son prescindibles para realizan las predicciones\n",
    "\n",
    "data = data.drop(columns = ['RowNumber', 'CustomerId', 'Surname'])\n",
    "data.sample(10)"
   ]
  },
  {
   "cell_type": "markdown",
   "metadata": {},
   "source": [
    "Para dar inicio con la elaboración de las predicciones se carga el data que se va a utilizar, se examinan los datos, y la estructura del dataframe, para procesar la información que sea conveniente y poder trabajar con la data sin ningún problema. En este caso visualizamos que se encontraban valores nulos en una columna, Tenure, para la cual fue necesario tratar ese punto, tratando los valores nulos aplicando la media. Así mismo, también se eliminaron las columnas que no se consideraran tan relevantes para el proyecto de predicción como RowNumber, CustomerId, Surname."
   ]
  },
  {
   "cell_type": "markdown",
   "metadata": {},
   "source": [
    "## Codificación de los datos"
   ]
  },
  {
   "cell_type": "code",
   "execution_count": 6,
   "metadata": {},
   "outputs": [],
   "source": [
    "#Se separan los atributos del target\n",
    "\n",
    "target = data['Exited']\n",
    "features = data.drop(['Exited'], axis=1)"
   ]
  },
  {
   "cell_type": "code",
   "execution_count": 7,
   "metadata": {},
   "outputs": [
    {
     "data": {
      "text/html": [
       "<div>\n",
       "<style scoped>\n",
       "    .dataframe tbody tr th:only-of-type {\n",
       "        vertical-align: middle;\n",
       "    }\n",
       "\n",
       "    .dataframe tbody tr th {\n",
       "        vertical-align: top;\n",
       "    }\n",
       "\n",
       "    .dataframe thead th {\n",
       "        text-align: right;\n",
       "    }\n",
       "</style>\n",
       "<table border=\"1\" class=\"dataframe\">\n",
       "  <thead>\n",
       "    <tr style=\"text-align: right;\">\n",
       "      <th></th>\n",
       "      <th>CreditScore</th>\n",
       "      <th>Age</th>\n",
       "      <th>Tenure</th>\n",
       "      <th>Balance</th>\n",
       "      <th>NumOfProducts</th>\n",
       "      <th>HasCrCard</th>\n",
       "      <th>IsActiveMember</th>\n",
       "      <th>EstimatedSalary</th>\n",
       "      <th>Geography_Germany</th>\n",
       "      <th>Geography_Spain</th>\n",
       "      <th>Gender_Male</th>\n",
       "    </tr>\n",
       "  </thead>\n",
       "  <tbody>\n",
       "    <tr>\n",
       "      <th>9250</th>\n",
       "      <td>713</td>\n",
       "      <td>42</td>\n",
       "      <td>0.00000</td>\n",
       "      <td>109121.71</td>\n",
       "      <td>1</td>\n",
       "      <td>0</td>\n",
       "      <td>1</td>\n",
       "      <td>167873.49</td>\n",
       "      <td>0</td>\n",
       "      <td>1</td>\n",
       "      <td>1</td>\n",
       "    </tr>\n",
       "    <tr>\n",
       "      <th>698</th>\n",
       "      <td>746</td>\n",
       "      <td>36</td>\n",
       "      <td>2.00000</td>\n",
       "      <td>0.00</td>\n",
       "      <td>2</td>\n",
       "      <td>1</td>\n",
       "      <td>1</td>\n",
       "      <td>16436.56</td>\n",
       "      <td>0</td>\n",
       "      <td>1</td>\n",
       "      <td>1</td>\n",
       "    </tr>\n",
       "    <tr>\n",
       "      <th>9874</th>\n",
       "      <td>720</td>\n",
       "      <td>44</td>\n",
       "      <td>4.99769</td>\n",
       "      <td>0.00</td>\n",
       "      <td>2</td>\n",
       "      <td>1</td>\n",
       "      <td>0</td>\n",
       "      <td>163471.01</td>\n",
       "      <td>0</td>\n",
       "      <td>0</td>\n",
       "      <td>1</td>\n",
       "    </tr>\n",
       "    <tr>\n",
       "      <th>843</th>\n",
       "      <td>773</td>\n",
       "      <td>41</td>\n",
       "      <td>5.00000</td>\n",
       "      <td>0.00</td>\n",
       "      <td>1</td>\n",
       "      <td>1</td>\n",
       "      <td>0</td>\n",
       "      <td>28266.90</td>\n",
       "      <td>0</td>\n",
       "      <td>1</td>\n",
       "      <td>0</td>\n",
       "    </tr>\n",
       "    <tr>\n",
       "      <th>4352</th>\n",
       "      <td>564</td>\n",
       "      <td>26</td>\n",
       "      <td>7.00000</td>\n",
       "      <td>84006.88</td>\n",
       "      <td>2</td>\n",
       "      <td>0</td>\n",
       "      <td>0</td>\n",
       "      <td>183490.99</td>\n",
       "      <td>0</td>\n",
       "      <td>0</td>\n",
       "      <td>1</td>\n",
       "    </tr>\n",
       "    <tr>\n",
       "      <th>204</th>\n",
       "      <td>512</td>\n",
       "      <td>33</td>\n",
       "      <td>3.00000</td>\n",
       "      <td>176666.62</td>\n",
       "      <td>1</td>\n",
       "      <td>1</td>\n",
       "      <td>0</td>\n",
       "      <td>94670.77</td>\n",
       "      <td>0</td>\n",
       "      <td>1</td>\n",
       "      <td>1</td>\n",
       "    </tr>\n",
       "    <tr>\n",
       "      <th>9517</th>\n",
       "      <td>543</td>\n",
       "      <td>37</td>\n",
       "      <td>8.00000</td>\n",
       "      <td>140894.06</td>\n",
       "      <td>2</td>\n",
       "      <td>1</td>\n",
       "      <td>1</td>\n",
       "      <td>118059.19</td>\n",
       "      <td>1</td>\n",
       "      <td>0</td>\n",
       "      <td>1</td>\n",
       "    </tr>\n",
       "    <tr>\n",
       "      <th>3369</th>\n",
       "      <td>703</td>\n",
       "      <td>33</td>\n",
       "      <td>8.00000</td>\n",
       "      <td>190566.65</td>\n",
       "      <td>1</td>\n",
       "      <td>1</td>\n",
       "      <td>1</td>\n",
       "      <td>79997.14</td>\n",
       "      <td>0</td>\n",
       "      <td>0</td>\n",
       "      <td>0</td>\n",
       "    </tr>\n",
       "    <tr>\n",
       "      <th>2348</th>\n",
       "      <td>824</td>\n",
       "      <td>45</td>\n",
       "      <td>3.00000</td>\n",
       "      <td>129209.48</td>\n",
       "      <td>1</td>\n",
       "      <td>0</td>\n",
       "      <td>0</td>\n",
       "      <td>60151.77</td>\n",
       "      <td>0</td>\n",
       "      <td>0</td>\n",
       "      <td>1</td>\n",
       "    </tr>\n",
       "    <tr>\n",
       "      <th>4081</th>\n",
       "      <td>721</td>\n",
       "      <td>33</td>\n",
       "      <td>5.00000</td>\n",
       "      <td>0.00</td>\n",
       "      <td>2</td>\n",
       "      <td>0</td>\n",
       "      <td>1</td>\n",
       "      <td>117626.90</td>\n",
       "      <td>0</td>\n",
       "      <td>1</td>\n",
       "      <td>1</td>\n",
       "    </tr>\n",
       "  </tbody>\n",
       "</table>\n",
       "</div>"
      ],
      "text/plain": [
       "      CreditScore  Age   Tenure    Balance  NumOfProducts  HasCrCard  \\\n",
       "9250          713   42  0.00000  109121.71              1          0   \n",
       "698           746   36  2.00000       0.00              2          1   \n",
       "9874          720   44  4.99769       0.00              2          1   \n",
       "843           773   41  5.00000       0.00              1          1   \n",
       "4352          564   26  7.00000   84006.88              2          0   \n",
       "204           512   33  3.00000  176666.62              1          1   \n",
       "9517          543   37  8.00000  140894.06              2          1   \n",
       "3369          703   33  8.00000  190566.65              1          1   \n",
       "2348          824   45  3.00000  129209.48              1          0   \n",
       "4081          721   33  5.00000       0.00              2          0   \n",
       "\n",
       "      IsActiveMember  EstimatedSalary  Geography_Germany  Geography_Spain  \\\n",
       "9250               1        167873.49                  0                1   \n",
       "698                1         16436.56                  0                1   \n",
       "9874               0        163471.01                  0                0   \n",
       "843                0         28266.90                  0                1   \n",
       "4352               0        183490.99                  0                0   \n",
       "204                0         94670.77                  0                1   \n",
       "9517               1        118059.19                  1                0   \n",
       "3369               1         79997.14                  0                0   \n",
       "2348               0         60151.77                  0                0   \n",
       "4081               1        117626.90                  0                1   \n",
       "\n",
       "      Gender_Male  \n",
       "9250            1  \n",
       "698             1  \n",
       "9874            1  \n",
       "843             0  \n",
       "4352            1  \n",
       "204             1  \n",
       "9517            1  \n",
       "3369            0  \n",
       "2348            1  \n",
       "4081            1  "
      ]
     },
     "execution_count": 7,
     "metadata": {},
     "output_type": "execute_result"
    }
   ],
   "source": [
    "#Codificación One-Hot\n",
    "\n",
    "data_ohe = pd.get_dummies(features, drop_first=True, dtype = int)\n",
    "\n",
    "data_ohe.sample(10)"
   ]
  },
  {
   "cell_type": "markdown",
   "metadata": {},
   "source": [
    "## Estandarización"
   ]
  },
  {
   "cell_type": "code",
   "execution_count": 8,
   "metadata": {},
   "outputs": [
    {
     "name": "stdout",
     "output_type": "stream",
     "text": [
      "(7500, 11)\n",
      "(2500, 11)\n",
      "(7500,)\n",
      "(2500,)\n"
     ]
    }
   ],
   "source": [
    "#Se realiza la partición de los datos\n",
    "\n",
    "features_train, features_valid, target_train, target_valid = train_test_split(data_ohe, target, test_size=0.25, random_state=12345)\n",
    "\n",
    "print(features_train.shape)\n",
    "print(features_valid.shape)\n",
    "print(target_train.shape)\n",
    "print(target_valid.shape)"
   ]
  },
  {
   "cell_type": "code",
   "execution_count": 9,
   "metadata": {},
   "outputs": [
    {
     "data": {
      "text/html": [
       "<div>\n",
       "<style scoped>\n",
       "    .dataframe tbody tr th:only-of-type {\n",
       "        vertical-align: middle;\n",
       "    }\n",
       "\n",
       "    .dataframe tbody tr th {\n",
       "        vertical-align: top;\n",
       "    }\n",
       "\n",
       "    .dataframe thead th {\n",
       "        text-align: right;\n",
       "    }\n",
       "</style>\n",
       "<table border=\"1\" class=\"dataframe\">\n",
       "  <thead>\n",
       "    <tr style=\"text-align: right;\">\n",
       "      <th></th>\n",
       "      <th>CreditScore</th>\n",
       "      <th>Age</th>\n",
       "      <th>Tenure</th>\n",
       "      <th>Balance</th>\n",
       "      <th>NumOfProducts</th>\n",
       "      <th>HasCrCard</th>\n",
       "      <th>IsActiveMember</th>\n",
       "      <th>EstimatedSalary</th>\n",
       "      <th>Geography_Germany</th>\n",
       "      <th>Geography_Spain</th>\n",
       "      <th>Gender_Male</th>\n",
       "    </tr>\n",
       "  </thead>\n",
       "  <tbody>\n",
       "    <tr>\n",
       "      <th>226</th>\n",
       "      <td>0.442805</td>\n",
       "      <td>-0.841274</td>\n",
       "      <td>1.446176</td>\n",
       "      <td>-1.224577</td>\n",
       "      <td>0.817772</td>\n",
       "      <td>1</td>\n",
       "      <td>1</td>\n",
       "      <td>-1.269750</td>\n",
       "      <td>0</td>\n",
       "      <td>0</td>\n",
       "      <td>0</td>\n",
       "    </tr>\n",
       "    <tr>\n",
       "      <th>7756</th>\n",
       "      <td>-0.310897</td>\n",
       "      <td>-0.270730</td>\n",
       "      <td>0.719177</td>\n",
       "      <td>0.641783</td>\n",
       "      <td>-0.896874</td>\n",
       "      <td>1</td>\n",
       "      <td>1</td>\n",
       "      <td>0.960396</td>\n",
       "      <td>0</td>\n",
       "      <td>1</td>\n",
       "      <td>0</td>\n",
       "    </tr>\n",
       "    <tr>\n",
       "      <th>2065</th>\n",
       "      <td>-0.259274</td>\n",
       "      <td>-0.556002</td>\n",
       "      <td>1.082676</td>\n",
       "      <td>-1.224577</td>\n",
       "      <td>0.817772</td>\n",
       "      <td>1</td>\n",
       "      <td>0</td>\n",
       "      <td>0.661864</td>\n",
       "      <td>0</td>\n",
       "      <td>0</td>\n",
       "      <td>1</td>\n",
       "    </tr>\n",
       "    <tr>\n",
       "      <th>2800</th>\n",
       "      <td>1.217157</td>\n",
       "      <td>1.155631</td>\n",
       "      <td>1.446176</td>\n",
       "      <td>1.290462</td>\n",
       "      <td>0.817772</td>\n",
       "      <td>1</td>\n",
       "      <td>0</td>\n",
       "      <td>-1.039476</td>\n",
       "      <td>0</td>\n",
       "      <td>0</td>\n",
       "      <td>1</td>\n",
       "    </tr>\n",
       "    <tr>\n",
       "      <th>7028</th>\n",
       "      <td>0.690598</td>\n",
       "      <td>-1.221637</td>\n",
       "      <td>-0.008661</td>\n",
       "      <td>1.142121</td>\n",
       "      <td>-0.896874</td>\n",
       "      <td>0</td>\n",
       "      <td>0</td>\n",
       "      <td>-0.851729</td>\n",
       "      <td>1</td>\n",
       "      <td>0</td>\n",
       "      <td>1</td>\n",
       "    </tr>\n",
       "  </tbody>\n",
       "</table>\n",
       "</div>"
      ],
      "text/plain": [
       "      CreditScore       Age    Tenure   Balance  NumOfProducts  HasCrCard  \\\n",
       "226      0.442805 -0.841274  1.446176 -1.224577       0.817772          1   \n",
       "7756    -0.310897 -0.270730  0.719177  0.641783      -0.896874          1   \n",
       "2065    -0.259274 -0.556002  1.082676 -1.224577       0.817772          1   \n",
       "2800     1.217157  1.155631  1.446176  1.290462       0.817772          1   \n",
       "7028     0.690598 -1.221637 -0.008661  1.142121      -0.896874          0   \n",
       "\n",
       "      IsActiveMember  EstimatedSalary  Geography_Germany  Geography_Spain  \\\n",
       "226                1        -1.269750                  0                0   \n",
       "7756               1         0.960396                  0                1   \n",
       "2065               0         0.661864                  0                0   \n",
       "2800               0        -1.039476                  0                0   \n",
       "7028               0        -0.851729                  1                0   \n",
       "\n",
       "      Gender_Male  \n",
       "226             0  \n",
       "7756            0  \n",
       "2065            1  \n",
       "2800            1  \n",
       "7028            1  "
      ]
     },
     "execution_count": 9,
     "metadata": {},
     "output_type": "execute_result"
    }
   ],
   "source": [
    "#Escalado de características - Estandarización\n",
    "\n",
    "numeric = ['CreditScore', 'Age', 'Tenure', 'Age', 'Balance', 'NumOfProducts', 'EstimatedSalary']\n",
    "\n",
    "scaler = StandardScaler()\n",
    "scaler.fit(features_train[numeric])\n",
    "\n",
    "#Transformar los datos\n",
    "features_train[numeric] = scaler.transform(features_train[numeric])\n",
    "features_valid[numeric] = scaler.transform(features_valid[numeric])\n",
    "\n",
    "features_train.head()"
   ]
  },
  {
   "cell_type": "code",
   "execution_count": 10,
   "metadata": {},
   "outputs": [
    {
     "data": {
      "text/html": [
       "<div>\n",
       "<style scoped>\n",
       "    .dataframe tbody tr th:only-of-type {\n",
       "        vertical-align: middle;\n",
       "    }\n",
       "\n",
       "    .dataframe tbody tr th {\n",
       "        vertical-align: top;\n",
       "    }\n",
       "\n",
       "    .dataframe thead th {\n",
       "        text-align: right;\n",
       "    }\n",
       "</style>\n",
       "<table border=\"1\" class=\"dataframe\">\n",
       "  <thead>\n",
       "    <tr style=\"text-align: right;\">\n",
       "      <th></th>\n",
       "      <th>CreditScore</th>\n",
       "      <th>Age</th>\n",
       "      <th>Tenure</th>\n",
       "      <th>Age</th>\n",
       "      <th>Balance</th>\n",
       "      <th>NumOfProducts</th>\n",
       "      <th>EstimatedSalary</th>\n",
       "    </tr>\n",
       "  </thead>\n",
       "  <tbody>\n",
       "    <tr>\n",
       "      <th>count</th>\n",
       "      <td>7500.0</td>\n",
       "      <td>7500.0</td>\n",
       "      <td>7500.0</td>\n",
       "      <td>7500.0</td>\n",
       "      <td>7500.0</td>\n",
       "      <td>7500.0</td>\n",
       "      <td>7500.0</td>\n",
       "    </tr>\n",
       "    <tr>\n",
       "      <th>mean</th>\n",
       "      <td>0.0</td>\n",
       "      <td>-0.0</td>\n",
       "      <td>-0.0</td>\n",
       "      <td>-0.0</td>\n",
       "      <td>0.0</td>\n",
       "      <td>0.0</td>\n",
       "      <td>-0.0</td>\n",
       "    </tr>\n",
       "    <tr>\n",
       "      <th>std</th>\n",
       "      <td>1.0</td>\n",
       "      <td>1.0</td>\n",
       "      <td>1.0</td>\n",
       "      <td>1.0</td>\n",
       "      <td>1.0</td>\n",
       "      <td>1.0</td>\n",
       "      <td>1.0</td>\n",
       "    </tr>\n",
       "    <tr>\n",
       "      <th>min</th>\n",
       "      <td>-3.0</td>\n",
       "      <td>-2.0</td>\n",
       "      <td>-2.0</td>\n",
       "      <td>-2.0</td>\n",
       "      <td>-1.0</td>\n",
       "      <td>-1.0</td>\n",
       "      <td>-2.0</td>\n",
       "    </tr>\n",
       "    <tr>\n",
       "      <th>25%</th>\n",
       "      <td>-1.0</td>\n",
       "      <td>-1.0</td>\n",
       "      <td>-1.0</td>\n",
       "      <td>-1.0</td>\n",
       "      <td>-1.0</td>\n",
       "      <td>-1.0</td>\n",
       "      <td>-1.0</td>\n",
       "    </tr>\n",
       "    <tr>\n",
       "      <th>50%</th>\n",
       "      <td>0.0</td>\n",
       "      <td>-0.0</td>\n",
       "      <td>-0.0</td>\n",
       "      <td>-0.0</td>\n",
       "      <td>0.0</td>\n",
       "      <td>-1.0</td>\n",
       "      <td>0.0</td>\n",
       "    </tr>\n",
       "    <tr>\n",
       "      <th>75%</th>\n",
       "      <td>1.0</td>\n",
       "      <td>0.0</td>\n",
       "      <td>1.0</td>\n",
       "      <td>0.0</td>\n",
       "      <td>1.0</td>\n",
       "      <td>1.0</td>\n",
       "      <td>1.0</td>\n",
       "    </tr>\n",
       "    <tr>\n",
       "      <th>max</th>\n",
       "      <td>2.0</td>\n",
       "      <td>5.0</td>\n",
       "      <td>2.0</td>\n",
       "      <td>5.0</td>\n",
       "      <td>3.0</td>\n",
       "      <td>4.0</td>\n",
       "      <td>2.0</td>\n",
       "    </tr>\n",
       "  </tbody>\n",
       "</table>\n",
       "</div>"
      ],
      "text/plain": [
       "       CreditScore     Age  Tenure     Age  Balance  NumOfProducts  \\\n",
       "count       7500.0  7500.0  7500.0  7500.0   7500.0         7500.0   \n",
       "mean           0.0    -0.0    -0.0    -0.0      0.0            0.0   \n",
       "std            1.0     1.0     1.0     1.0      1.0            1.0   \n",
       "min           -3.0    -2.0    -2.0    -2.0     -1.0           -1.0   \n",
       "25%           -1.0    -1.0    -1.0    -1.0     -1.0           -1.0   \n",
       "50%            0.0    -0.0    -0.0    -0.0      0.0           -1.0   \n",
       "75%            1.0     0.0     1.0     0.0      1.0            1.0   \n",
       "max            2.0     5.0     2.0     5.0      3.0            4.0   \n",
       "\n",
       "       EstimatedSalary  \n",
       "count           7500.0  \n",
       "mean              -0.0  \n",
       "std                1.0  \n",
       "min               -2.0  \n",
       "25%               -1.0  \n",
       "50%                0.0  \n",
       "75%                1.0  \n",
       "max                2.0  "
      ]
     },
     "execution_count": 10,
     "metadata": {},
     "output_type": "execute_result"
    }
   ],
   "source": [
    "features_train[numeric].describe().apply(round)"
   ]
  },
  {
   "cell_type": "code",
   "execution_count": 11,
   "metadata": {},
   "outputs": [
    {
     "data": {
      "text/html": [
       "<div>\n",
       "<style scoped>\n",
       "    .dataframe tbody tr th:only-of-type {\n",
       "        vertical-align: middle;\n",
       "    }\n",
       "\n",
       "    .dataframe tbody tr th {\n",
       "        vertical-align: top;\n",
       "    }\n",
       "\n",
       "    .dataframe thead th {\n",
       "        text-align: right;\n",
       "    }\n",
       "</style>\n",
       "<table border=\"1\" class=\"dataframe\">\n",
       "  <thead>\n",
       "    <tr style=\"text-align: right;\">\n",
       "      <th></th>\n",
       "      <th>CreditScore</th>\n",
       "      <th>Age</th>\n",
       "      <th>Tenure</th>\n",
       "      <th>Age</th>\n",
       "      <th>Balance</th>\n",
       "      <th>NumOfProducts</th>\n",
       "      <th>EstimatedSalary</th>\n",
       "    </tr>\n",
       "  </thead>\n",
       "  <tbody>\n",
       "    <tr>\n",
       "      <th>count</th>\n",
       "      <td>2500.0</td>\n",
       "      <td>2500.0</td>\n",
       "      <td>2500.0</td>\n",
       "      <td>2500.0</td>\n",
       "      <td>2500.0</td>\n",
       "      <td>2500.0</td>\n",
       "      <td>2500.0</td>\n",
       "    </tr>\n",
       "    <tr>\n",
       "      <th>mean</th>\n",
       "      <td>-0.0</td>\n",
       "      <td>0.0</td>\n",
       "      <td>-0.0</td>\n",
       "      <td>0.0</td>\n",
       "      <td>0.0</td>\n",
       "      <td>0.0</td>\n",
       "      <td>-0.0</td>\n",
       "    </tr>\n",
       "    <tr>\n",
       "      <th>std</th>\n",
       "      <td>1.0</td>\n",
       "      <td>1.0</td>\n",
       "      <td>1.0</td>\n",
       "      <td>1.0</td>\n",
       "      <td>1.0</td>\n",
       "      <td>1.0</td>\n",
       "      <td>1.0</td>\n",
       "    </tr>\n",
       "    <tr>\n",
       "      <th>min</th>\n",
       "      <td>-3.0</td>\n",
       "      <td>-2.0</td>\n",
       "      <td>-2.0</td>\n",
       "      <td>-2.0</td>\n",
       "      <td>-1.0</td>\n",
       "      <td>-1.0</td>\n",
       "      <td>-2.0</td>\n",
       "    </tr>\n",
       "    <tr>\n",
       "      <th>25%</th>\n",
       "      <td>-1.0</td>\n",
       "      <td>-1.0</td>\n",
       "      <td>-1.0</td>\n",
       "      <td>-1.0</td>\n",
       "      <td>-1.0</td>\n",
       "      <td>-1.0</td>\n",
       "      <td>-1.0</td>\n",
       "    </tr>\n",
       "    <tr>\n",
       "      <th>50%</th>\n",
       "      <td>-0.0</td>\n",
       "      <td>-0.0</td>\n",
       "      <td>-0.0</td>\n",
       "      <td>-0.0</td>\n",
       "      <td>0.0</td>\n",
       "      <td>1.0</td>\n",
       "      <td>-0.0</td>\n",
       "    </tr>\n",
       "    <tr>\n",
       "      <th>75%</th>\n",
       "      <td>1.0</td>\n",
       "      <td>0.0</td>\n",
       "      <td>1.0</td>\n",
       "      <td>0.0</td>\n",
       "      <td>1.0</td>\n",
       "      <td>1.0</td>\n",
       "      <td>1.0</td>\n",
       "    </tr>\n",
       "    <tr>\n",
       "      <th>max</th>\n",
       "      <td>2.0</td>\n",
       "      <td>5.0</td>\n",
       "      <td>2.0</td>\n",
       "      <td>5.0</td>\n",
       "      <td>3.0</td>\n",
       "      <td>4.0</td>\n",
       "      <td>2.0</td>\n",
       "    </tr>\n",
       "  </tbody>\n",
       "</table>\n",
       "</div>"
      ],
      "text/plain": [
       "       CreditScore     Age  Tenure     Age  Balance  NumOfProducts  \\\n",
       "count       2500.0  2500.0  2500.0  2500.0   2500.0         2500.0   \n",
       "mean          -0.0     0.0    -0.0     0.0      0.0            0.0   \n",
       "std            1.0     1.0     1.0     1.0      1.0            1.0   \n",
       "min           -3.0    -2.0    -2.0    -2.0     -1.0           -1.0   \n",
       "25%           -1.0    -1.0    -1.0    -1.0     -1.0           -1.0   \n",
       "50%           -0.0    -0.0    -0.0    -0.0      0.0            1.0   \n",
       "75%            1.0     0.0     1.0     0.0      1.0            1.0   \n",
       "max            2.0     5.0     2.0     5.0      3.0            4.0   \n",
       "\n",
       "       EstimatedSalary  \n",
       "count           2500.0  \n",
       "mean              -0.0  \n",
       "std                1.0  \n",
       "min               -2.0  \n",
       "25%               -1.0  \n",
       "50%               -0.0  \n",
       "75%                1.0  \n",
       "max                2.0  "
      ]
     },
     "execution_count": 11,
     "metadata": {},
     "output_type": "execute_result"
    }
   ],
   "source": [
    "features_valid[numeric].describe().apply(round)"
   ]
  },
  {
   "cell_type": "code",
   "execution_count": 12,
   "metadata": {},
   "outputs": [
    {
     "data": {
      "text/html": [
       "<div>\n",
       "<style scoped>\n",
       "    .dataframe tbody tr th:only-of-type {\n",
       "        vertical-align: middle;\n",
       "    }\n",
       "\n",
       "    .dataframe tbody tr th {\n",
       "        vertical-align: top;\n",
       "    }\n",
       "\n",
       "    .dataframe thead th {\n",
       "        text-align: right;\n",
       "    }\n",
       "</style>\n",
       "<table border=\"1\" class=\"dataframe\">\n",
       "  <thead>\n",
       "    <tr style=\"text-align: right;\">\n",
       "      <th></th>\n",
       "      <th>CreditScore</th>\n",
       "      <th>Age</th>\n",
       "      <th>Tenure</th>\n",
       "      <th>Balance</th>\n",
       "      <th>NumOfProducts</th>\n",
       "      <th>HasCrCard</th>\n",
       "      <th>IsActiveMember</th>\n",
       "      <th>EstimatedSalary</th>\n",
       "      <th>Geography_Germany</th>\n",
       "      <th>Geography_Spain</th>\n",
       "      <th>Gender_Male</th>\n",
       "    </tr>\n",
       "  </thead>\n",
       "  <tbody>\n",
       "    <tr>\n",
       "      <th>9448</th>\n",
       "      <td>-0.703235</td>\n",
       "      <td>-0.365820</td>\n",
       "      <td>1.082676</td>\n",
       "      <td>1.181725</td>\n",
       "      <td>0.817772</td>\n",
       "      <td>1</td>\n",
       "      <td>0</td>\n",
       "      <td>-1.006821</td>\n",
       "      <td>1</td>\n",
       "      <td>0</td>\n",
       "      <td>1</td>\n",
       "    </tr>\n",
       "    <tr>\n",
       "      <th>8857</th>\n",
       "      <td>-0.279923</td>\n",
       "      <td>-0.270730</td>\n",
       "      <td>0.355678</td>\n",
       "      <td>-1.224577</td>\n",
       "      <td>0.817772</td>\n",
       "      <td>0</td>\n",
       "      <td>0</td>\n",
       "      <td>-0.269003</td>\n",
       "      <td>0</td>\n",
       "      <td>0</td>\n",
       "      <td>1</td>\n",
       "    </tr>\n",
       "    <tr>\n",
       "      <th>3124</th>\n",
       "      <td>1.124235</td>\n",
       "      <td>0.014543</td>\n",
       "      <td>0.355678</td>\n",
       "      <td>1.640375</td>\n",
       "      <td>-0.896874</td>\n",
       "      <td>1</td>\n",
       "      <td>0</td>\n",
       "      <td>-0.574106</td>\n",
       "      <td>0</td>\n",
       "      <td>0</td>\n",
       "      <td>1</td>\n",
       "    </tr>\n",
       "    <tr>\n",
       "      <th>95</th>\n",
       "      <td>-1.405315</td>\n",
       "      <td>-0.365820</td>\n",
       "      <td>1.809675</td>\n",
       "      <td>1.603292</td>\n",
       "      <td>-0.896874</td>\n",
       "      <td>0</td>\n",
       "      <td>1</td>\n",
       "      <td>0.363551</td>\n",
       "      <td>0</td>\n",
       "      <td>1</td>\n",
       "      <td>1</td>\n",
       "    </tr>\n",
       "    <tr>\n",
       "      <th>6212</th>\n",
       "      <td>0.814494</td>\n",
       "      <td>2.201630</td>\n",
       "      <td>-1.098320</td>\n",
       "      <td>-1.224577</td>\n",
       "      <td>0.817772</td>\n",
       "      <td>1</td>\n",
       "      <td>1</td>\n",
       "      <td>1.084137</td>\n",
       "      <td>0</td>\n",
       "      <td>1</td>\n",
       "      <td>0</td>\n",
       "    </tr>\n",
       "  </tbody>\n",
       "</table>\n",
       "</div>"
      ],
      "text/plain": [
       "      CreditScore       Age    Tenure   Balance  NumOfProducts  HasCrCard  \\\n",
       "9448    -0.703235 -0.365820  1.082676  1.181725       0.817772          1   \n",
       "8857    -0.279923 -0.270730  0.355678 -1.224577       0.817772          0   \n",
       "3124     1.124235  0.014543  0.355678  1.640375      -0.896874          1   \n",
       "95      -1.405315 -0.365820  1.809675  1.603292      -0.896874          0   \n",
       "6212     0.814494  2.201630 -1.098320 -1.224577       0.817772          1   \n",
       "\n",
       "      IsActiveMember  EstimatedSalary  Geography_Germany  Geography_Spain  \\\n",
       "9448               0        -1.006821                  1                0   \n",
       "8857               0        -0.269003                  0                0   \n",
       "3124               0        -0.574106                  0                0   \n",
       "95                 1         0.363551                  0                1   \n",
       "6212               1         1.084137                  0                1   \n",
       "\n",
       "      Gender_Male  \n",
       "9448            1  \n",
       "8857            1  \n",
       "3124            1  \n",
       "95              1  \n",
       "6212            0  "
      ]
     },
     "execution_count": 12,
     "metadata": {},
     "output_type": "execute_result"
    }
   ],
   "source": [
    "features_train.sample(5)"
   ]
  },
  {
   "cell_type": "markdown",
   "metadata": {},
   "source": [
    "## Creación de modelos"
   ]
  },
  {
   "cell_type": "markdown",
   "metadata": {},
   "source": [
    "### Modelo Logistic Regression"
   ]
  },
  {
   "cell_type": "code",
   "execution_count": 13,
   "metadata": {},
   "outputs": [
    {
     "data": {
      "text/plain": [
       "LogisticRegression(random_state=12345, solver='liblinear')"
      ]
     },
     "execution_count": 13,
     "metadata": {},
     "output_type": "execute_result"
    }
   ],
   "source": [
    "#Definir y ajustar el modelo\n",
    "\n",
    "model = LogisticRegression(random_state = 12345, solver = 'liblinear', max_iter = 100)\n",
    "model.fit(features_train, target_train)"
   ]
  },
  {
   "cell_type": "code",
   "execution_count": 14,
   "metadata": {},
   "outputs": [
    {
     "data": {
      "image/png": "[encoded data removed]",
      "text/plain": [
       "<Figure size 640x480 with 1 Axes>"
      ]
     },
     "metadata": {},
     "output_type": "display_data"
    }
   ],
   "source": [
    "#Visualiar importancia de variables\n",
    "\n",
    "importancia = permutation_importance(model, features_train, target_train)\n",
    "data_imp = pd.DataFrame({'importancia':importancia['importances_mean']}, index=features_train.columns)\n",
    "data_imp = data_imp.sort_values(by='importancia')\n",
    "data_imp = data_imp.query('importancia > 0')\n",
    "\n",
    "data_imp.plot(kind = 'barh', legend = False)\n",
    "\n",
    "plt.yticks(fontsize = 8.5)\n",
    "plt.show()"
   ]
  },
  {
   "cell_type": "code",
   "execution_count": 15,
   "metadata": {},
   "outputs": [
    {
     "name": "stdout",
     "output_type": "stream",
     "text": [
      "[[1887   78]\n",
      " [ 429  106]]\n"
     ]
    }
   ],
   "source": [
    "#Generar predicciones\n",
    "\n",
    "predicted_valid = model.predict(features_valid)\n",
    "\n",
    "#Visualizar la matriz de confusión\n",
    "\n",
    "print(confusion_matrix(target_valid, predicted_valid))"
   ]
  },
  {
   "cell_type": "code",
   "execution_count": 16,
   "metadata": {},
   "outputs": [
    {
     "name": "stdout",
     "output_type": "stream",
     "text": [
      "              precision    recall  f1-score   support\n",
      "\n",
      "           0     0.8148    0.9603    0.8816      1965\n",
      "           1     0.5761    0.1981    0.2949       535\n",
      "\n",
      "    accuracy                         0.7972      2500\n",
      "   macro avg     0.6954    0.5792    0.5882      2500\n",
      "weighted avg     0.7637    0.7972    0.7560      2500\n",
      "\n"
     ]
    }
   ],
   "source": [
    "#Extraer las principales métricas\n",
    "\n",
    "print(classification_report(target_valid, predicted_valid, digits = 4))"
   ]
  },
  {
   "cell_type": "code",
   "execution_count": 17,
   "metadata": {},
   "outputs": [
    {
     "name": "stdout",
     "output_type": "stream",
     "text": [
      "0.7972 0.7560125534471784\n"
     ]
    }
   ],
   "source": [
    "#Guardar métricas relevantes\n",
    "\n",
    "acc1 = accuracy_score(target_valid, predicted_valid)\n",
    "f1_1 = f1_score(target_valid, predicted_valid, average = 'weighted')\n",
    "\n",
    "print(acc1, f1_1)"
   ]
  },
  {
   "cell_type": "markdown",
   "metadata": {},
   "source": [
    "#### Mejorar el modelo base"
   ]
  },
  {
   "cell_type": "markdown",
   "metadata": {},
   "source": [
    "##### Balanceo de clases"
   ]
  },
  {
   "cell_type": "code",
   "execution_count": 18,
   "metadata": {},
   "outputs": [
    {
     "data": {
      "text/plain": [
       "LogisticRegression(class_weight='balanced', random_state=12345,\n",
       "                   solver='liblinear')"
      ]
     },
     "execution_count": 18,
     "metadata": {},
     "output_type": "execute_result"
    }
   ],
   "source": [
    "#Crear y ajustar el modelo\n",
    "\n",
    "model2 = LogisticRegression(random_state = 12345, solver = 'liblinear', max_iter = 100, class_weight = 'balanced')\n",
    "model2.fit(features_train, target_train)"
   ]
  },
  {
   "cell_type": "code",
   "execution_count": 19,
   "metadata": {},
   "outputs": [
    {
     "name": "stdout",
     "output_type": "stream",
     "text": [
      "              precision    recall  f1-score   support\n",
      "\n",
      "           0     0.8975    0.7043    0.7893      1965\n",
      "           1     0.3935    0.7047    0.5050       535\n",
      "\n",
      "    accuracy                         0.7044      2500\n",
      "   macro avg     0.6455    0.7045    0.6472      2500\n",
      "weighted avg     0.7897    0.7044    0.7284      2500\n",
      "\n"
     ]
    }
   ],
   "source": [
    "#Generar predicciones\n",
    "\n",
    "predicted_valid = model2.predict(features_valid)\n",
    "\n",
    "#Extraer las principales métricas\n",
    "\n",
    "print(classification_report(target_valid, predicted_valid, digits = 4))"
   ]
  },
  {
   "cell_type": "code",
   "execution_count": 20,
   "metadata": {},
   "outputs": [
    {
     "name": "stdout",
     "output_type": "stream",
     "text": [
      "0.7044 0.7284479850938254\n"
     ]
    }
   ],
   "source": [
    "#Se guardan las métricas relevantes\n",
    "\n",
    "acc2 = accuracy_score(target_valid, predicted_valid)\n",
    "f1_2 = f1_score(target_valid, predicted_valid, average = 'weighted')\n",
    "\n",
    "print(acc2, f1_2)"
   ]
  },
  {
   "cell_type": "markdown",
   "metadata": {},
   "source": [
    "##### Ajustar el umbral de clasificación"
   ]
  },
  {
   "cell_type": "code",
   "execution_count": 21,
   "metadata": {},
   "outputs": [
    {
     "name": "stdout",
     "output_type": "stream",
     "text": [
      "[0.44916532 0.2577057  0.21019617 0.35674009 0.07547822]\n"
     ]
    }
   ],
   "source": [
    "#Extraer las probabilidades de clasificación (score)\n",
    "\n",
    "prob_valid = model2.predict_proba(features_valid)\n",
    "prob_one_valid = prob_valid[:,1]\n",
    "\n",
    "print(prob_one_valid[:5])"
   ]
  },
  {
   "cell_type": "markdown",
   "metadata": {},
   "source": [
    "##### Curva ROC y AUC-ROC"
   ]
  },
  {
   "cell_type": "code",
   "execution_count": 22,
   "metadata": {},
   "outputs": [],
   "source": [
    "#Crear una curva ROC\n",
    "\n",
    "fpr, tpr, thresholds = roc_curve(target_valid, prob_one_valid)"
   ]
  },
  {
   "cell_type": "code",
   "execution_count": 23,
   "metadata": {},
   "outputs": [
    {
     "data": {
      "text/html": [
       "<div>\n",
       "<style scoped>\n",
       "    .dataframe tbody tr th:only-of-type {\n",
       "        vertical-align: middle;\n",
       "    }\n",
       "\n",
       "    .dataframe tbody tr th {\n",
       "        vertical-align: top;\n",
       "    }\n",
       "\n",
       "    .dataframe thead th {\n",
       "        text-align: right;\n",
       "    }\n",
       "</style>\n",
       "<table border=\"1\" class=\"dataframe\">\n",
       "  <thead>\n",
       "    <tr style=\"text-align: right;\">\n",
       "      <th></th>\n",
       "      <th>fpr</th>\n",
       "      <th>tpr</th>\n",
       "      <th>thresholds</th>\n",
       "    </tr>\n",
       "  </thead>\n",
       "  <tbody>\n",
       "    <tr>\n",
       "      <th>0</th>\n",
       "      <td>0.000000</td>\n",
       "      <td>0.000000</td>\n",
       "      <td>1.979472</td>\n",
       "    </tr>\n",
       "    <tr>\n",
       "      <th>1</th>\n",
       "      <td>0.000509</td>\n",
       "      <td>0.000000</td>\n",
       "      <td>0.979472</td>\n",
       "    </tr>\n",
       "    <tr>\n",
       "      <th>2</th>\n",
       "      <td>0.000509</td>\n",
       "      <td>0.003738</td>\n",
       "      <td>0.973002</td>\n",
       "    </tr>\n",
       "    <tr>\n",
       "      <th>3</th>\n",
       "      <td>0.004580</td>\n",
       "      <td>0.003738</td>\n",
       "      <td>0.944896</td>\n",
       "    </tr>\n",
       "    <tr>\n",
       "      <th>4</th>\n",
       "      <td>0.004580</td>\n",
       "      <td>0.018692</td>\n",
       "      <td>0.933359</td>\n",
       "    </tr>\n",
       "    <tr>\n",
       "      <th>...</th>\n",
       "      <td>...</td>\n",
       "      <td>...</td>\n",
       "      <td>...</td>\n",
       "    </tr>\n",
       "    <tr>\n",
       "      <th>699</th>\n",
       "      <td>0.969975</td>\n",
       "      <td>0.996262</td>\n",
       "      <td>0.105707</td>\n",
       "    </tr>\n",
       "    <tr>\n",
       "      <th>700</th>\n",
       "      <td>0.969975</td>\n",
       "      <td>0.998131</td>\n",
       "      <td>0.104305</td>\n",
       "    </tr>\n",
       "    <tr>\n",
       "      <th>701</th>\n",
       "      <td>0.983715</td>\n",
       "      <td>0.998131</td>\n",
       "      <td>0.084959</td>\n",
       "    </tr>\n",
       "    <tr>\n",
       "      <th>702</th>\n",
       "      <td>0.983715</td>\n",
       "      <td>1.000000</td>\n",
       "      <td>0.084314</td>\n",
       "    </tr>\n",
       "    <tr>\n",
       "      <th>703</th>\n",
       "      <td>1.000000</td>\n",
       "      <td>1.000000</td>\n",
       "      <td>0.036657</td>\n",
       "    </tr>\n",
       "  </tbody>\n",
       "</table>\n",
       "<p>704 rows × 3 columns</p>\n",
       "</div>"
      ],
      "text/plain": [
       "          fpr       tpr  thresholds\n",
       "0    0.000000  0.000000    1.979472\n",
       "1    0.000509  0.000000    0.979472\n",
       "2    0.000509  0.003738    0.973002\n",
       "3    0.004580  0.003738    0.944896\n",
       "4    0.004580  0.018692    0.933359\n",
       "..        ...       ...         ...\n",
       "699  0.969975  0.996262    0.105707\n",
       "700  0.969975  0.998131    0.104305\n",
       "701  0.983715  0.998131    0.084959\n",
       "702  0.983715  1.000000    0.084314\n",
       "703  1.000000  1.000000    0.036657\n",
       "\n",
       "[704 rows x 3 columns]"
      ]
     },
     "execution_count": 23,
     "metadata": {},
     "output_type": "execute_result"
    }
   ],
   "source": [
    "df_roc = pd.DataFrame({\"fpr\":fpr, \"tpr\":tpr, \"thresholds\":thresholds})\n",
    "df_roc"
   ]
  },
  {
   "cell_type": "code",
   "execution_count": 24,
   "metadata": {},
   "outputs": [
    {
     "data": {
      "text/plain": [
       "<AxesSubplot:xlabel='Tasa Falsos Positivos', ylabel='Tasa Verdaderos Positivos'>"
      ]
     },
     "execution_count": 24,
     "metadata": {},
     "output_type": "execute_result"
    },
    {
     "data": {
      "image/png": "[encoded data removed]",
      "text/plain": [
       "<Figure size 600x600 with 1 Axes>"
      ]
     },
     "metadata": {},
     "output_type": "display_data"
    }
   ],
   "source": [
    "df_roc.plot(\n",
    "    x='fpr', \n",
    "    y='tpr', \n",
    "    kind='line', \n",
    "    legend=False, \n",
    "    xlim=[0,1], \n",
    "    ylim=[0,1], \n",
    "    xticks=np.array(range(0,110,10))/100,\n",
    "    yticks=np.array(range(0,110,10))/100,\n",
    "    xlabel=\"Tasa Falsos Positivos\",\n",
    "    ylabel=\"Tasa Verdaderos Positivos\",\n",
    "    figsize=[6,6],\n",
    "    grid=True\n",
    ")"
   ]
  },
  {
   "cell_type": "code",
   "execution_count": 25,
   "metadata": {},
   "outputs": [
    {
     "name": "stdout",
     "output_type": "stream",
     "text": [
      "Score F1 máximo: 0.7798\n",
      "Umbral: 0.6770\n"
     ]
    }
   ],
   "source": [
    "#Seleccionar umbral\n",
    "\n",
    "f1_max = f1_2\n",
    "u_max = 0.5\n",
    "\n",
    "for u in thresholds:\n",
    "    pred=[]\n",
    "    for y in prob_one_valid:\n",
    "        if y > u:\n",
    "            pred.append(1)\n",
    "        else:\n",
    "            pred.append(0)\n",
    "            \n",
    "    f1_iter = f1_score(target_valid, pred, average='weighted')\n",
    "    \n",
    "    if f1_iter > f1_max:\n",
    "        f1_max = f1_iter\n",
    "        u_max = u\n",
    "        \n",
    "print(f\"Score F1 máximo: {f1_max:.4f}\")\n",
    "print(f\"Umbral: {u_max:.4f}\")"
   ]
  },
  {
   "cell_type": "code",
   "execution_count": 26,
   "metadata": {},
   "outputs": [],
   "source": [
    "#Predecir con umbral óptimo\n",
    "\n",
    "predic = []\n",
    "for y in prob_one_valid:\n",
    "    if y > u_max:\n",
    "        predic.append(1)\n",
    "    else:\n",
    "        predic.append(0)"
   ]
  },
  {
   "cell_type": "code",
   "execution_count": 27,
   "metadata": {},
   "outputs": [
    {
     "name": "stdout",
     "output_type": "stream",
     "text": [
      "              precision    recall  f1-score   support\n",
      "\n",
      "           0     0.8501    0.8835    0.8665      1965\n",
      "           1     0.5000    0.4280    0.4612       535\n",
      "\n",
      "    accuracy                         0.7860      2500\n",
      "   macro avg     0.6751    0.6557    0.6639      2500\n",
      "weighted avg     0.7752    0.7860    0.7798      2500\n",
      "\n"
     ]
    }
   ],
   "source": [
    "#Se extraen las principales métricas\n",
    "\n",
    "print(classification_report(target_valid, predic, digits = 4))"
   ]
  },
  {
   "cell_type": "code",
   "execution_count": 28,
   "metadata": {},
   "outputs": [
    {
     "name": "stdout",
     "output_type": "stream",
     "text": [
      "0.786 0.7797590721775663\n"
     ]
    }
   ],
   "source": [
    "#Se guardan las métricas relevantes\n",
    "\n",
    "acc3 = accuracy_score(target_valid, predic)\n",
    "f1_3 = f1_score(target_valid, predic, average = 'weighted')\n",
    "\n",
    "print(acc3, f1_3)"
   ]
  },
  {
   "cell_type": "code",
   "execution_count": 29,
   "metadata": {},
   "outputs": [
    {
     "data": {
      "text/html": [
       "<div>\n",
       "<style scoped>\n",
       "    .dataframe tbody tr th:only-of-type {\n",
       "        vertical-align: middle;\n",
       "    }\n",
       "\n",
       "    .dataframe tbody tr th {\n",
       "        vertical-align: top;\n",
       "    }\n",
       "\n",
       "    .dataframe thead th {\n",
       "        text-align: right;\n",
       "    }\n",
       "</style>\n",
       "<table border=\"1\" class=\"dataframe\">\n",
       "  <thead>\n",
       "    <tr style=\"text-align: right;\">\n",
       "      <th></th>\n",
       "      <th>Exactitud</th>\n",
       "      <th>f1_score</th>\n",
       "    </tr>\n",
       "  </thead>\n",
       "  <tbody>\n",
       "    <tr>\n",
       "      <th>base</th>\n",
       "      <td>0.7972</td>\n",
       "      <td>0.756013</td>\n",
       "    </tr>\n",
       "    <tr>\n",
       "      <th>balanceado</th>\n",
       "      <td>0.7044</td>\n",
       "      <td>0.728448</td>\n",
       "    </tr>\n",
       "    <tr>\n",
       "      <th>balanceo + umbral</th>\n",
       "      <td>0.7860</td>\n",
       "      <td>0.779759</td>\n",
       "    </tr>\n",
       "  </tbody>\n",
       "</table>\n",
       "</div>"
      ],
      "text/plain": [
       "                   Exactitud  f1_score\n",
       "base                  0.7972  0.756013\n",
       "balanceado            0.7044  0.728448\n",
       "balanceo + umbral     0.7860  0.779759"
      ]
     },
     "execution_count": 29,
     "metadata": {},
     "output_type": "execute_result"
    }
   ],
   "source": [
    "#Resumen de resultados\n",
    "\n",
    "df_resumen = pd.DataFrame(dict(\n",
    "    Exactitud = [acc1, acc2, acc3],\n",
    "    f1_score = [f1_1, f1_2, f1_3]\n",
    "), index = ['base', 'balanceado', 'balanceo + umbral'])\n",
    "\n",
    "df_resumen"
   ]
  },
  {
   "cell_type": "code",
   "execution_count": 30,
   "metadata": {},
   "outputs": [
    {
     "data": {
      "image/png": "[encoded data removed]",
      "text/plain": [
       "<Figure size 640x480 with 1 Axes>"
      ]
     },
     "metadata": {},
     "output_type": "display_data"
    }
   ],
   "source": [
    "df_resumen.plot(kind='line', marker='o', style='--')\n",
    "plt.show()"
   ]
  },
  {
   "cell_type": "code",
   "execution_count": 31,
   "metadata": {},
   "outputs": [
    {
     "name": "stdout",
     "output_type": "stream",
     "text": [
      "76.3%\n"
     ]
    }
   ],
   "source": [
    "#Estimar el AUC ROC\n",
    "\n",
    "auc_roc = roc_auc_score(target_valid, prob_one_valid)\n",
    "print(f\"{auc_roc:.1%}\")"
   ]
  },
  {
   "cell_type": "markdown",
   "metadata": {},
   "source": [
    "Como podemos observar, las predicciones resultaron con exactitud y score con porcentaje \"aceptable\", sin embargo no se encontraba tan equilibrado, es decir, en la primer predicción (base), se cuenta con una exactitud más alta que el score, por lo que no es lo ideal. En la segunda predicción (balanceado), bajo tanto su exactitud, como su score, también con diferencia en el equilibrio entre ellos. En la tercer predicción (balanceo + umbral), observamos que subió su exactitud y score, estando más cerca uno del otro, por lo que se encuentra mejor equilibrado, siendo esta la opción ideal.\n",
    "Así mismo, se compara con el resultado del AUC-ROC, el cual nos arroja un 76.3%, siendo este muy similar al resultado de su exactitud y score, por lo que la tercer predicción del model logistic regression resulta una predicción bastante mejorada."
   ]
  },
  {
   "cell_type": "markdown",
   "metadata": {},
   "source": [
    "### Modelo DecisionTreeClassifier"
   ]
  },
  {
   "cell_type": "code",
   "execution_count": 32,
   "metadata": {},
   "outputs": [
    {
     "data": {
      "text/plain": [
       "DecisionTreeClassifier(random_state=12345)"
      ]
     },
     "execution_count": 32,
     "metadata": {},
     "output_type": "execute_result"
    }
   ],
   "source": [
    "#Definir y ajustar el modelo\n",
    "\n",
    "mod = DecisionTreeClassifier(random_state=12345)\n",
    "mod.fit(features_train, target_train)"
   ]
  },
  {
   "cell_type": "code",
   "execution_count": 33,
   "metadata": {},
   "outputs": [
    {
     "name": "stdout",
     "output_type": "stream",
     "text": [
      "[[1678  287]\n",
      " [ 272  263]]\n"
     ]
    }
   ],
   "source": [
    "#Generar predicciones\n",
    "\n",
    "predicted_valid = mod.predict(features_valid)\n",
    "\n",
    "#Visualizar la matriz de confusión\n",
    "\n",
    "print(confusion_matrix(target_valid, predicted_valid))"
   ]
  },
  {
   "cell_type": "code",
   "execution_count": 34,
   "metadata": {},
   "outputs": [
    {
     "name": "stdout",
     "output_type": "stream",
     "text": [
      "              precision    recall  f1-score   support\n",
      "\n",
      "           0     0.8605    0.8539    0.8572      1965\n",
      "           1     0.4782    0.4916    0.4848       535\n",
      "\n",
      "    accuracy                         0.7764      2500\n",
      "   macro avg     0.6693    0.6728    0.6710      2500\n",
      "weighted avg     0.7787    0.7764    0.7775      2500\n",
      "\n"
     ]
    }
   ],
   "source": [
    "#Extraer las principales métricas\n",
    "\n",
    "print(classification_report(target_valid, predicted_valid, digits = 4))"
   ]
  },
  {
   "cell_type": "code",
   "execution_count": 35,
   "metadata": {},
   "outputs": [
    {
     "name": "stdout",
     "output_type": "stream",
     "text": [
      "0.7764 0.7775172696293942\n"
     ]
    }
   ],
   "source": [
    "#Guardar métricas relevantes\n",
    "\n",
    "accu1 = accuracy_score(target_valid, predicted_valid)\n",
    "f1score_1 = f1_score(target_valid, predicted_valid, average = 'weighted')\n",
    "\n",
    "print(accu1, f1score_1)"
   ]
  },
  {
   "cell_type": "markdown",
   "metadata": {},
   "source": [
    "#### Mejorar el modelo base"
   ]
  },
  {
   "cell_type": "markdown",
   "metadata": {},
   "source": [
    "##### Balanceo de clases"
   ]
  },
  {
   "cell_type": "code",
   "execution_count": 36,
   "metadata": {},
   "outputs": [
    {
     "name": "stdout",
     "output_type": "stream",
     "text": [
      "              precision    recall  f1-score   support\n",
      "\n",
      "           0     0.8600    0.8595    0.8598      1965\n",
      "           1     0.4851    0.4860    0.4855       535\n",
      "\n",
      "    accuracy                         0.7796      2500\n",
      "   macro avg     0.6725    0.6728    0.6726      2500\n",
      "weighted avg     0.7797    0.7796    0.7797      2500\n",
      "\n"
     ]
    }
   ],
   "source": [
    "#Crear y ajustar el modelo\n",
    "\n",
    "mod2 = DecisionTreeClassifier(random_state=12345, class_weight = 'balanced')\n",
    "mod2.fit(features_train, target_train)\n",
    "\n",
    "#Generar predicciones\n",
    "\n",
    "predicted_valid = mod2.predict(features_valid)\n",
    "\n",
    "#Extraer las principales métricas\n",
    "\n",
    "print(classification_report(target_valid, predicted_valid, digits = 4))"
   ]
  },
  {
   "cell_type": "code",
   "execution_count": 37,
   "metadata": {},
   "outputs": [
    {
     "name": "stdout",
     "output_type": "stream",
     "text": [
      "0.7796 0.7796748466418042\n"
     ]
    }
   ],
   "source": [
    "#Se guardan las métricas relevantes\n",
    "\n",
    "accu2 = accuracy_score(target_valid, predicted_valid)\n",
    "f1score_2 = f1_score(target_valid, predicted_valid, average = 'weighted')\n",
    "\n",
    "print(accu2, f1score_2)"
   ]
  },
  {
   "cell_type": "markdown",
   "metadata": {},
   "source": [
    "##### Ajustar el umbral de clasificación"
   ]
  },
  {
   "cell_type": "code",
   "execution_count": 38,
   "metadata": {},
   "outputs": [
    {
     "name": "stdout",
     "output_type": "stream",
     "text": [
      "[1. 0. 0. 1. 0.]\n"
     ]
    }
   ],
   "source": [
    "#Extraer las probabilidades de clasificación (score)\n",
    "\n",
    "prob_valid = mod2.predict_proba(features_valid)\n",
    "prob_one_valid = prob_valid[:,1]\n",
    "\n",
    "print(prob_one_valid[:5])"
   ]
  },
  {
   "cell_type": "markdown",
   "metadata": {},
   "source": [
    "##### Curva ROC Y AUC-ROC"
   ]
  },
  {
   "cell_type": "code",
   "execution_count": 39,
   "metadata": {},
   "outputs": [
    {
     "data": {
      "text/html": [
       "<div>\n",
       "<style scoped>\n",
       "    .dataframe tbody tr th:only-of-type {\n",
       "        vertical-align: middle;\n",
       "    }\n",
       "\n",
       "    .dataframe tbody tr th {\n",
       "        vertical-align: top;\n",
       "    }\n",
       "\n",
       "    .dataframe thead th {\n",
       "        text-align: right;\n",
       "    }\n",
       "</style>\n",
       "<table border=\"1\" class=\"dataframe\">\n",
       "  <thead>\n",
       "    <tr style=\"text-align: right;\">\n",
       "      <th></th>\n",
       "      <th>fpr</th>\n",
       "      <th>tpr</th>\n",
       "      <th>thresholds</th>\n",
       "    </tr>\n",
       "  </thead>\n",
       "  <tbody>\n",
       "    <tr>\n",
       "      <th>0</th>\n",
       "      <td>0.000000</td>\n",
       "      <td>0.000000</td>\n",
       "      <td>2.0</td>\n",
       "    </tr>\n",
       "    <tr>\n",
       "      <th>1</th>\n",
       "      <td>0.140458</td>\n",
       "      <td>0.485981</td>\n",
       "      <td>1.0</td>\n",
       "    </tr>\n",
       "    <tr>\n",
       "      <th>2</th>\n",
       "      <td>1.000000</td>\n",
       "      <td>1.000000</td>\n",
       "      <td>0.0</td>\n",
       "    </tr>\n",
       "  </tbody>\n",
       "</table>\n",
       "</div>"
      ],
      "text/plain": [
       "        fpr       tpr  thresholds\n",
       "0  0.000000  0.000000         2.0\n",
       "1  0.140458  0.485981         1.0\n",
       "2  1.000000  1.000000         0.0"
      ]
     },
     "execution_count": 39,
     "metadata": {},
     "output_type": "execute_result"
    }
   ],
   "source": [
    "#Crear una curva ROC\n",
    "\n",
    "fpr, tpr, thresholds = roc_curve(target_valid, prob_one_valid)\n",
    "\n",
    "df_roc = pd.DataFrame({\"fpr\":fpr, \"tpr\":tpr, \"thresholds\":thresholds})\n",
    "df_roc"
   ]
  },
  {
   "cell_type": "code",
   "execution_count": 40,
   "metadata": {},
   "outputs": [
    {
     "data": {
      "text/plain": [
       "<AxesSubplot:xlabel='Tasa Falsos Positivos', ylabel='Tasa Verdaderos Positivos'>"
      ]
     },
     "execution_count": 40,
     "metadata": {},
     "output_type": "execute_result"
    },
    {
     "data": {
      "image/png": "[encoded data removed]",
      "text/plain": [
       "<Figure size 600x600 with 1 Axes>"
      ]
     },
     "metadata": {},
     "output_type": "display_data"
    }
   ],
   "source": [
    "df_roc.plot(\n",
    "    x='fpr', \n",
    "    y='tpr', \n",
    "    kind='line', \n",
    "    legend=False, \n",
    "    xlim=[0,1], \n",
    "    ylim=[0,1], \n",
    "    xticks=np.array(range(0,110,10))/100,\n",
    "    yticks=np.array(range(0,110,10))/100,\n",
    "    xlabel=\"Tasa Falsos Positivos\",\n",
    "    ylabel=\"Tasa Verdaderos Positivos\",\n",
    "    figsize=[6,6],\n",
    "    grid=True\n",
    ")"
   ]
  },
  {
   "cell_type": "code",
   "execution_count": 41,
   "metadata": {},
   "outputs": [
    {
     "name": "stdout",
     "output_type": "stream",
     "text": [
      "Score F1 máximo: 0.7797\n",
      "Umbral: 0.5000\n"
     ]
    }
   ],
   "source": [
    "#Seleccionar umbral\n",
    "\n",
    "f1_max = f1score_2\n",
    "u_max = 0.5\n",
    "\n",
    "for u in thresholds:\n",
    "    pred=[]\n",
    "    for y in prob_one_valid:\n",
    "        if y > u:\n",
    "            pred.append(1)\n",
    "        else:\n",
    "            pred.append(0)\n",
    "            \n",
    "    f1_iter = f1_score(target_valid, pred, average='weighted')\n",
    "    \n",
    "    if f1_iter > f1_max:\n",
    "        f1_max = f1_iter\n",
    "        u_max = u\n",
    "        \n",
    "print(f\"Score F1 máximo: {f1_max:.4f}\")\n",
    "print(f\"Umbral: {u_max:.4f}\")"
   ]
  },
  {
   "cell_type": "code",
   "execution_count": 42,
   "metadata": {},
   "outputs": [
    {
     "name": "stdout",
     "output_type": "stream",
     "text": [
      "              precision    recall  f1-score   support\n",
      "\n",
      "           0     0.8600    0.8595    0.8598      1965\n",
      "           1     0.4851    0.4860    0.4855       535\n",
      "\n",
      "    accuracy                         0.7796      2500\n",
      "   macro avg     0.6725    0.6728    0.6726      2500\n",
      "weighted avg     0.7797    0.7796    0.7797      2500\n",
      "\n"
     ]
    }
   ],
   "source": [
    "#Predecir con umbral óptimo\n",
    "\n",
    "predic = []\n",
    "for y in prob_one_valid:\n",
    "    if y > u_max:\n",
    "        predic.append(1)\n",
    "    else:\n",
    "        predic.append(0)\n",
    "        \n",
    "#Se extraen las principales métricas\n",
    "\n",
    "print(classification_report(target_valid, predic, digits = 4))"
   ]
  },
  {
   "cell_type": "code",
   "execution_count": 43,
   "metadata": {},
   "outputs": [
    {
     "name": "stdout",
     "output_type": "stream",
     "text": [
      "0.7796 0.7796748466418042\n"
     ]
    }
   ],
   "source": [
    "#Se guardan las métricas relevantes\n",
    "\n",
    "accu3 = accuracy_score(target_valid, predic)\n",
    "f1score_3 = f1_score(target_valid, predic, average = 'weighted')\n",
    "\n",
    "print(accu3, f1score_3)"
   ]
  },
  {
   "cell_type": "code",
   "execution_count": 44,
   "metadata": {},
   "outputs": [
    {
     "data": {
      "text/html": [
       "<div>\n",
       "<style scoped>\n",
       "    .dataframe tbody tr th:only-of-type {\n",
       "        vertical-align: middle;\n",
       "    }\n",
       "\n",
       "    .dataframe tbody tr th {\n",
       "        vertical-align: top;\n",
       "    }\n",
       "\n",
       "    .dataframe thead th {\n",
       "        text-align: right;\n",
       "    }\n",
       "</style>\n",
       "<table border=\"1\" class=\"dataframe\">\n",
       "  <thead>\n",
       "    <tr style=\"text-align: right;\">\n",
       "      <th></th>\n",
       "      <th>Exactitud</th>\n",
       "      <th>f1_score</th>\n",
       "    </tr>\n",
       "  </thead>\n",
       "  <tbody>\n",
       "    <tr>\n",
       "      <th>base</th>\n",
       "      <td>0.7764</td>\n",
       "      <td>0.777517</td>\n",
       "    </tr>\n",
       "    <tr>\n",
       "      <th>balanceado</th>\n",
       "      <td>0.7796</td>\n",
       "      <td>0.779675</td>\n",
       "    </tr>\n",
       "    <tr>\n",
       "      <th>balanceo + umbral</th>\n",
       "      <td>0.7796</td>\n",
       "      <td>0.779675</td>\n",
       "    </tr>\n",
       "  </tbody>\n",
       "</table>\n",
       "</div>"
      ],
      "text/plain": [
       "                   Exactitud  f1_score\n",
       "base                  0.7764  0.777517\n",
       "balanceado            0.7796  0.779675\n",
       "balanceo + umbral     0.7796  0.779675"
      ]
     },
     "execution_count": 44,
     "metadata": {},
     "output_type": "execute_result"
    }
   ],
   "source": [
    "#Resumen de resultados\n",
    "\n",
    "df_resumen = pd.DataFrame(dict(\n",
    "    Exactitud = [accu1, accu2, accu3],\n",
    "    f1_score = [f1score_1, f1score_2, f1score_3]\n",
    "), index = ['base', 'balanceado', 'balanceo + umbral'])\n",
    "\n",
    "df_resumen"
   ]
  },
  {
   "cell_type": "code",
   "execution_count": 45,
   "metadata": {},
   "outputs": [
    {
     "data": {
      "image/png": "[encoded data removed]",
      "text/plain": [
       "<Figure size 640x480 with 1 Axes>"
      ]
     },
     "metadata": {},
     "output_type": "display_data"
    }
   ],
   "source": [
    "df_resumen.plot(kind='line', marker='o', style='--')\n",
    "plt.show()"
   ]
  },
  {
   "cell_type": "code",
   "execution_count": 46,
   "metadata": {},
   "outputs": [
    {
     "name": "stdout",
     "output_type": "stream",
     "text": [
      "67.3%\n"
     ]
    }
   ],
   "source": [
    "#Estimar el AUC ROC\n",
    "\n",
    "auc_roc = roc_auc_score(target_valid, prob_one_valid)\n",
    "print(f\"{auc_roc:.1%}\")"
   ]
  },
  {
   "cell_type": "markdown",
   "metadata": {},
   "source": [
    "Como podemos observar en las predicciones del modelo DecisionTreeClasifier, de igual manera de realizar tres predicciones, en la primer predicción (base) aunque su exactitud y score, tuvieron resultados \"aceptables\", el score es mas alto que su exactitud, por lo que no lo hace lo ideal, puesto que no hay un buen equilibrio. En la segunda predicción (balanceado), incrementó tanto su exactitud, como su score, dejandolo más equilibrado, al igual que la tercer predicción (balanceo + umbral), el cual dio como resultado una exactitud y score bastante aceptables y un equilibrio más idóneo.\n",
    "Sin embargo al observar el porcentaje del AUC-ROC, 67.3% no es tan alto, por lo que el modelo es bueno, pero aún se podría mejorar para que sea mas ideal."
   ]
  },
  {
   "cell_type": "markdown",
   "metadata": {},
   "source": [
    "## Conclusiones"
   ]
  },
  {
   "cell_type": "markdown",
   "metadata": {},
   "source": [
    "Como pudimos observar en los modelos creados y predicciones arrojadas, en ambos modelos se logró mejorar tanto su exactitud y score, y logrando un mejor equilibrio, sin embargo al compararlo con el área bajo la curva (AUC-ROC), podemos visualizar que el modelo de regresión logística resulta más idóneo ya que hay una mejor relación tvp-tfp."
   ]
  }
 ],
 "metadata": {
  "ExecuteTimeLog": [
   {
    "duration": 337,
    "start_time": "2025-02-05T23:53:35.176Z"
   },
   {
    "duration": 28,
    "start_time": "2025-02-05T23:53:37.218Z"
   },
   {
    "duration": 15,
    "start_time": "2025-02-05T23:54:24.598Z"
   },
   {
    "duration": 197,
    "start_time": "2025-02-05T23:58:49.568Z"
   },
   {
    "duration": 491,
    "start_time": "2025-02-05T23:59:15.780Z"
   },
   {
    "duration": 51,
    "start_time": "2025-02-05T23:59:19.807Z"
   },
   {
    "duration": 10,
    "start_time": "2025-02-05T23:59:42.333Z"
   },
   {
    "duration": 793,
    "start_time": "2025-02-06T16:15:31.508Z"
   },
   {
    "duration": 31,
    "start_time": "2025-02-06T16:15:32.303Z"
   },
   {
    "duration": 14,
    "start_time": "2025-02-06T16:15:32.336Z"
   },
   {
    "duration": 9,
    "start_time": "2025-02-06T16:15:32.352Z"
   },
   {
    "duration": 212,
    "start_time": "2025-02-06T17:47:14.925Z"
   },
   {
    "duration": 29,
    "start_time": "2025-02-06T17:47:31.528Z"
   },
   {
    "duration": 35,
    "start_time": "2025-02-06T17:47:35.572Z"
   },
   {
    "duration": 13,
    "start_time": "2025-02-06T17:50:48.562Z"
   },
   {
    "duration": 2,
    "start_time": "2025-02-06T17:51:12.925Z"
   },
   {
    "duration": 28,
    "start_time": "2025-02-06T17:51:17.041Z"
   },
   {
    "duration": 21,
    "start_time": "2025-02-06T18:09:48.507Z"
   },
   {
    "duration": 21,
    "start_time": "2025-02-06T18:09:56.378Z"
   },
   {
    "duration": 11,
    "start_time": "2025-02-06T18:10:01.502Z"
   },
   {
    "duration": 12,
    "start_time": "2025-02-06T18:10:08.296Z"
   },
   {
    "duration": 9,
    "start_time": "2025-02-06T18:10:19.461Z"
   },
   {
    "duration": 28,
    "start_time": "2025-02-06T18:10:27.587Z"
   },
   {
    "duration": 541,
    "start_time": "2025-02-06T18:11:28.115Z"
   },
   {
    "duration": 728,
    "start_time": "2025-02-06T18:12:29.093Z"
   },
   {
    "duration": 24,
    "start_time": "2025-02-06T18:12:29.823Z"
   },
   {
    "duration": 15,
    "start_time": "2025-02-06T18:12:29.848Z"
   },
   {
    "duration": 8,
    "start_time": "2025-02-06T18:12:29.864Z"
   },
   {
    "duration": 178,
    "start_time": "2025-02-06T18:12:29.874Z"
   },
   {
    "duration": 0,
    "start_time": "2025-02-06T18:12:30.054Z"
   },
   {
    "duration": 587,
    "start_time": "2025-02-06T18:13:53.660Z"
   },
   {
    "duration": 65,
    "start_time": "2025-02-06T18:15:25.335Z"
   },
   {
    "duration": 64,
    "start_time": "2025-02-06T18:15:35.676Z"
   },
   {
    "duration": 67,
    "start_time": "2025-02-06T18:16:04.955Z"
   },
   {
    "duration": 204,
    "start_time": "2025-02-06T18:19:08.519Z"
   },
   {
    "duration": 116,
    "start_time": "2025-02-06T18:19:38.964Z"
   },
   {
    "duration": 723,
    "start_time": "2025-02-06T18:22:46.593Z"
   },
   {
    "duration": 23,
    "start_time": "2025-02-06T18:22:47.319Z"
   },
   {
    "duration": 14,
    "start_time": "2025-02-06T18:22:47.343Z"
   },
   {
    "duration": 9,
    "start_time": "2025-02-06T18:22:47.359Z"
   },
   {
    "duration": 155,
    "start_time": "2025-02-06T18:22:47.371Z"
   },
   {
    "duration": 0,
    "start_time": "2025-02-06T18:22:47.528Z"
   },
   {
    "duration": 0,
    "start_time": "2025-02-06T18:22:47.529Z"
   },
   {
    "duration": 720,
    "start_time": "2025-02-06T18:23:57.889Z"
   },
   {
    "duration": 23,
    "start_time": "2025-02-06T18:23:58.611Z"
   },
   {
    "duration": 14,
    "start_time": "2025-02-06T18:23:58.636Z"
   },
   {
    "duration": 160,
    "start_time": "2025-02-06T18:23:58.652Z"
   },
   {
    "duration": 0,
    "start_time": "2025-02-06T18:23:58.814Z"
   },
   {
    "duration": 0,
    "start_time": "2025-02-06T18:23:58.816Z"
   },
   {
    "duration": 116,
    "start_time": "2025-02-06T18:24:07.870Z"
   },
   {
    "duration": 33,
    "start_time": "2025-02-06T18:25:34.430Z"
   },
   {
    "duration": 10,
    "start_time": "2025-02-06T18:26:15.276Z"
   },
   {
    "duration": 5,
    "start_time": "2025-02-06T18:27:53.006Z"
   },
   {
    "duration": 125,
    "start_time": "2025-02-06T18:28:11.440Z"
   },
   {
    "duration": 115,
    "start_time": "2025-02-06T18:28:51.933Z"
   },
   {
    "duration": 32,
    "start_time": "2025-02-06T18:29:19.785Z"
   },
   {
    "duration": 2,
    "start_time": "2025-02-06T18:36:11.227Z"
   },
   {
    "duration": 719,
    "start_time": "2025-02-06T18:36:17.989Z"
   },
   {
    "duration": 25,
    "start_time": "2025-02-06T18:36:18.710Z"
   },
   {
    "duration": 14,
    "start_time": "2025-02-06T18:36:18.736Z"
   },
   {
    "duration": 2,
    "start_time": "2025-02-06T18:36:18.751Z"
   },
   {
    "duration": 9,
    "start_time": "2025-02-06T18:36:18.756Z"
   },
   {
    "duration": 3,
    "start_time": "2025-02-06T18:36:18.767Z"
   },
   {
    "duration": 144,
    "start_time": "2025-02-06T18:36:18.771Z"
   },
   {
    "duration": 149,
    "start_time": "2025-02-06T18:36:18.916Z"
   },
   {
    "duration": 93,
    "start_time": "2025-02-06T18:40:31.643Z"
   },
   {
    "duration": 540,
    "start_time": "2025-02-06T18:40:34.340Z"
   },
   {
    "duration": 752,
    "start_time": "2025-02-06T18:40:45.658Z"
   },
   {
    "duration": 24,
    "start_time": "2025-02-06T18:40:46.413Z"
   },
   {
    "duration": 18,
    "start_time": "2025-02-06T18:40:46.439Z"
   },
   {
    "duration": 2,
    "start_time": "2025-02-06T18:40:46.460Z"
   },
   {
    "duration": 9,
    "start_time": "2025-02-06T18:40:46.465Z"
   },
   {
    "duration": 135,
    "start_time": "2025-02-06T18:40:46.476Z"
   },
   {
    "duration": 98,
    "start_time": "2025-02-06T18:40:46.612Z"
   },
   {
    "duration": 627,
    "start_time": "2025-02-06T18:40:46.711Z"
   },
   {
    "duration": 301,
    "start_time": "2025-02-06T18:45:05.856Z"
   },
   {
    "duration": 769,
    "start_time": "2025-02-07T15:57:27.642Z"
   },
   {
    "duration": 32,
    "start_time": "2025-02-07T15:57:28.413Z"
   },
   {
    "duration": 15,
    "start_time": "2025-02-07T15:57:28.446Z"
   },
   {
    "duration": 2,
    "start_time": "2025-02-07T15:57:28.463Z"
   },
   {
    "duration": 124,
    "start_time": "2025-02-07T15:57:28.467Z"
   },
   {
    "duration": 100,
    "start_time": "2025-02-07T15:57:28.593Z"
   },
   {
    "duration": 635,
    "start_time": "2025-02-07T15:57:28.695Z"
   },
   {
    "duration": 298,
    "start_time": "2025-02-07T16:09:19.601Z"
   },
   {
    "duration": 375,
    "start_time": "2025-02-07T16:09:44.687Z"
   },
   {
    "duration": 29,
    "start_time": "2025-02-07T16:30:30.054Z"
   },
   {
    "duration": 4,
    "start_time": "2025-02-07T16:33:27.576Z"
   },
   {
    "duration": 3,
    "start_time": "2025-02-07T16:40:04.222Z"
   },
   {
    "duration": 10,
    "start_time": "2025-02-07T16:40:20.442Z"
   },
   {
    "duration": 119,
    "start_time": "2025-02-07T16:40:44.646Z"
   },
   {
    "duration": 94,
    "start_time": "2025-02-07T16:40:57.765Z"
   },
   {
    "duration": 473,
    "start_time": "2025-02-07T16:41:02.515Z"
   },
   {
    "duration": 771,
    "start_time": "2025-02-07T17:22:54.635Z"
   },
   {
    "duration": 25,
    "start_time": "2025-02-07T17:22:55.408Z"
   },
   {
    "duration": 14,
    "start_time": "2025-02-07T17:22:55.434Z"
   },
   {
    "duration": 10,
    "start_time": "2025-02-07T17:22:55.449Z"
   },
   {
    "duration": 2,
    "start_time": "2025-02-07T17:22:55.461Z"
   },
   {
    "duration": 141,
    "start_time": "2025-02-07T17:22:55.465Z"
   },
   {
    "duration": 95,
    "start_time": "2025-02-07T17:22:55.608Z"
   },
   {
    "duration": 402,
    "start_time": "2025-02-07T17:22:55.705Z"
   },
   {
    "duration": 748,
    "start_time": "2025-02-07T22:32:22.688Z"
   },
   {
    "duration": 31,
    "start_time": "2025-02-07T22:32:23.438Z"
   },
   {
    "duration": 14,
    "start_time": "2025-02-07T22:32:23.470Z"
   },
   {
    "duration": 12,
    "start_time": "2025-02-07T22:32:23.486Z"
   },
   {
    "duration": 12,
    "start_time": "2025-02-07T22:32:23.500Z"
   },
   {
    "duration": 127,
    "start_time": "2025-02-07T22:32:23.514Z"
   },
   {
    "duration": 97,
    "start_time": "2025-02-07T22:32:23.643Z"
   },
   {
    "duration": 472,
    "start_time": "2025-02-07T22:32:23.742Z"
   },
   {
    "duration": 36,
    "start_time": "2025-02-07T22:32:33.061Z"
   },
   {
    "duration": 32,
    "start_time": "2025-02-07T22:32:34.641Z"
   },
   {
    "duration": 724,
    "start_time": "2025-02-07T22:43:58.974Z"
   },
   {
    "duration": 27,
    "start_time": "2025-02-07T22:43:59.701Z"
   },
   {
    "duration": 14,
    "start_time": "2025-02-07T22:43:59.730Z"
   },
   {
    "duration": 10,
    "start_time": "2025-02-07T22:43:59.747Z"
   },
   {
    "duration": 2,
    "start_time": "2025-02-07T22:43:59.758Z"
   },
   {
    "duration": 139,
    "start_time": "2025-02-07T22:43:59.762Z"
   },
   {
    "duration": 100,
    "start_time": "2025-02-07T22:43:59.904Z"
   },
   {
    "duration": 424,
    "start_time": "2025-02-07T22:44:00.006Z"
   },
   {
    "duration": 784,
    "start_time": "2025-02-07T22:45:09.025Z"
   },
   {
    "duration": 22,
    "start_time": "2025-02-07T22:45:09.811Z"
   },
   {
    "duration": 14,
    "start_time": "2025-02-07T22:45:09.835Z"
   },
   {
    "duration": 10,
    "start_time": "2025-02-07T22:45:09.850Z"
   },
   {
    "duration": 2,
    "start_time": "2025-02-07T22:45:09.862Z"
   },
   {
    "duration": 142,
    "start_time": "2025-02-07T22:45:09.865Z"
   },
   {
    "duration": 105,
    "start_time": "2025-02-07T22:45:10.008Z"
   },
   {
    "duration": 414,
    "start_time": "2025-02-07T22:45:10.115Z"
   },
   {
    "duration": 446,
    "start_time": "2025-02-07T22:55:32.771Z"
   },
   {
    "duration": 323,
    "start_time": "2025-02-07T22:57:40.768Z"
   },
   {
    "duration": 2,
    "start_time": "2025-02-07T22:58:03.683Z"
   },
   {
    "duration": 29,
    "start_time": "2025-02-07T22:58:08.646Z"
   },
   {
    "duration": 3,
    "start_time": "2025-02-07T23:07:51.053Z"
   },
   {
    "duration": 115,
    "start_time": "2025-02-07T23:08:06.273Z"
   },
   {
    "duration": 21,
    "start_time": "2025-02-07T23:11:18.223Z"
   },
   {
    "duration": 22,
    "start_time": "2025-02-07T23:11:31.440Z"
   },
   {
    "duration": 21,
    "start_time": "2025-02-07T23:14:20.828Z"
   },
   {
    "duration": 28,
    "start_time": "2025-02-07T23:14:29.718Z"
   },
   {
    "duration": 28,
    "start_time": "2025-02-07T23:15:09.362Z"
   },
   {
    "duration": 3501,
    "start_time": "2025-02-07T23:16:53.466Z"
   },
   {
    "duration": 3392,
    "start_time": "2025-02-07T23:23:40.290Z"
   },
   {
    "duration": 730,
    "start_time": "2025-02-10T16:06:15.435Z"
   },
   {
    "duration": 32,
    "start_time": "2025-02-10T16:06:16.167Z"
   },
   {
    "duration": 14,
    "start_time": "2025-02-10T16:06:16.201Z"
   },
   {
    "duration": 10,
    "start_time": "2025-02-10T16:06:16.217Z"
   },
   {
    "duration": 15,
    "start_time": "2025-02-10T16:06:16.228Z"
   },
   {
    "duration": 129,
    "start_time": "2025-02-10T16:06:16.244Z"
   },
   {
    "duration": 96,
    "start_time": "2025-02-10T16:06:16.374Z"
   },
   {
    "duration": 475,
    "start_time": "2025-02-10T16:06:16.472Z"
   },
   {
    "duration": 111,
    "start_time": "2025-02-10T16:06:16.949Z"
   },
   {
    "duration": 101,
    "start_time": "2025-02-10T16:06:17.063Z"
   },
   {
    "duration": 177,
    "start_time": "2025-02-10T16:06:17.166Z"
   },
   {
    "duration": 3386,
    "start_time": "2025-02-10T16:06:17.344Z"
   },
   {
    "duration": 866,
    "start_time": "2025-02-10T16:29:30.227Z"
   },
   {
    "duration": 29,
    "start_time": "2025-02-10T16:29:31.096Z"
   },
   {
    "duration": 30,
    "start_time": "2025-02-10T16:29:31.126Z"
   },
   {
    "duration": 14,
    "start_time": "2025-02-10T16:29:31.159Z"
   },
   {
    "duration": 131,
    "start_time": "2025-02-10T16:29:31.176Z"
   },
   {
    "duration": 100,
    "start_time": "2025-02-10T16:29:31.309Z"
   },
   {
    "duration": 443,
    "start_time": "2025-02-10T16:29:31.411Z"
   },
   {
    "duration": 108,
    "start_time": "2025-02-10T16:29:31.857Z"
   },
   {
    "duration": 100,
    "start_time": "2025-02-10T16:29:31.967Z"
   },
   {
    "duration": 193,
    "start_time": "2025-02-10T16:29:32.068Z"
   },
   {
    "duration": 3447,
    "start_time": "2025-02-10T16:29:32.263Z"
   },
   {
    "duration": 254,
    "start_time": "2025-02-10T18:11:49.770Z"
   },
   {
    "duration": 35,
    "start_time": "2025-02-10T18:12:21.605Z"
   },
   {
    "duration": 537,
    "start_time": "2025-02-10T18:12:27.506Z"
   },
   {
    "duration": 34,
    "start_time": "2025-02-10T18:12:35.180Z"
   },
   {
    "duration": 26,
    "start_time": "2025-02-10T18:12:43.982Z"
   },
   {
    "duration": 119,
    "start_time": "2025-02-10T18:16:05.923Z"
   },
   {
    "duration": 13,
    "start_time": "2025-02-10T18:42:26.185Z"
   },
   {
    "duration": 3,
    "start_time": "2025-02-10T18:42:48.806Z"
   },
   {
    "duration": 13,
    "start_time": "2025-02-10T18:42:53.281Z"
   },
   {
    "duration": 16,
    "start_time": "2025-02-10T18:44:15.069Z"
   },
   {
    "duration": 571,
    "start_time": "2025-02-10T18:44:18.810Z"
   },
   {
    "duration": 16,
    "start_time": "2025-02-10T18:45:21.558Z"
   },
   {
    "duration": 3,
    "start_time": "2025-02-10T18:46:07.536Z"
   },
   {
    "duration": 13,
    "start_time": "2025-02-10T18:46:14.966Z"
   },
   {
    "duration": 3,
    "start_time": "2025-02-10T18:46:39.580Z"
   },
   {
    "duration": 4,
    "start_time": "2025-02-10T18:46:43.779Z"
   },
   {
    "duration": 5,
    "start_time": "2025-02-10T18:47:29.370Z"
   },
   {
    "duration": 5,
    "start_time": "2025-02-10T18:48:07.782Z"
   },
   {
    "duration": 597,
    "start_time": "2025-02-10T19:04:06.447Z"
   },
   {
    "duration": 33,
    "start_time": "2025-02-10T19:08:14.375Z"
   },
   {
    "duration": 6,
    "start_time": "2025-02-10T19:09:40.596Z"
   },
   {
    "duration": 11,
    "start_time": "2025-02-10T19:09:50.041Z"
   },
   {
    "duration": 10,
    "start_time": "2025-02-10T19:10:00.320Z"
   },
   {
    "duration": 4,
    "start_time": "2025-02-10T19:10:05.743Z"
   },
   {
    "duration": 3,
    "start_time": "2025-02-10T19:10:17.497Z"
   },
   {
    "duration": 32,
    "start_time": "2025-02-10T19:10:19.414Z"
   },
   {
    "duration": 8,
    "start_time": "2025-02-10T19:10:24.135Z"
   },
   {
    "duration": 26,
    "start_time": "2025-02-10T19:10:30.531Z"
   },
   {
    "duration": 21,
    "start_time": "2025-02-10T19:10:38.285Z"
   },
   {
    "duration": 38,
    "start_time": "2025-02-10T19:10:44.581Z"
   },
   {
    "duration": 5,
    "start_time": "2025-02-10T19:10:48.260Z"
   },
   {
    "duration": 5,
    "start_time": "2025-02-10T19:10:51.221Z"
   },
   {
    "duration": 5,
    "start_time": "2025-02-10T19:10:53.923Z"
   },
   {
    "duration": 825,
    "start_time": "2025-02-11T15:29:58.148Z"
   },
   {
    "duration": 27,
    "start_time": "2025-02-11T15:29:58.976Z"
   },
   {
    "duration": 14,
    "start_time": "2025-02-11T15:29:59.004Z"
   },
   {
    "duration": 9,
    "start_time": "2025-02-11T15:29:59.021Z"
   },
   {
    "duration": 22,
    "start_time": "2025-02-11T15:29:59.031Z"
   },
   {
    "duration": 12,
    "start_time": "2025-02-11T15:29:59.055Z"
   },
   {
    "duration": 4,
    "start_time": "2025-02-11T15:29:59.068Z"
   },
   {
    "duration": 71,
    "start_time": "2025-02-11T15:29:59.073Z"
   },
   {
    "duration": 7,
    "start_time": "2025-02-11T15:29:59.146Z"
   },
   {
    "duration": 100,
    "start_time": "2025-02-11T15:29:59.156Z"
   },
   {
    "duration": 20,
    "start_time": "2025-02-11T15:29:59.258Z"
   },
   {
    "duration": 77,
    "start_time": "2025-02-11T15:29:59.280Z"
   },
   {
    "duration": 5,
    "start_time": "2025-02-11T15:29:59.359Z"
   },
   {
    "duration": 5,
    "start_time": "2025-02-11T15:29:59.366Z"
   },
   {
    "duration": 4,
    "start_time": "2025-02-11T15:29:59.372Z"
   },
   {
    "duration": 396,
    "start_time": "2025-02-11T15:42:58.974Z"
   },
   {
    "duration": 20,
    "start_time": "2025-02-11T15:44:34.524Z"
   },
   {
    "duration": 19,
    "start_time": "2025-02-11T15:46:33.747Z"
   },
   {
    "duration": 14,
    "start_time": "2025-02-11T15:53:35.211Z"
   },
   {
    "duration": 17,
    "start_time": "2025-02-11T15:53:40.995Z"
   },
   {
    "duration": 18,
    "start_time": "2025-02-11T15:54:12.853Z"
   },
   {
    "duration": 61,
    "start_time": "2025-02-11T16:04:51.596Z"
   },
   {
    "duration": 16,
    "start_time": "2025-02-11T16:07:22.233Z"
   },
   {
    "duration": 2688,
    "start_time": "2025-02-11T16:07:27.557Z"
   },
   {
    "duration": 3,
    "start_time": "2025-02-11T16:08:50.968Z"
   },
   {
    "duration": 961,
    "start_time": "2025-02-11T16:08:58.535Z"
   },
   {
    "duration": 719,
    "start_time": "2025-02-11T16:10:04.578Z"
   },
   {
    "duration": 757,
    "start_time": "2025-02-11T16:11:04.163Z"
   },
   {
    "duration": 608,
    "start_time": "2025-02-11T16:12:25.154Z"
   },
   {
    "duration": 530,
    "start_time": "2025-02-11T16:12:39.319Z"
   },
   {
    "duration": 564,
    "start_time": "2025-02-11T16:13:32.295Z"
   },
   {
    "duration": 641,
    "start_time": "2025-02-11T16:13:51.501Z"
   },
   {
    "duration": 789,
    "start_time": "2025-02-11T16:14:07.016Z"
   },
   {
    "duration": 719,
    "start_time": "2025-02-11T16:14:34.992Z"
   },
   {
    "duration": 735,
    "start_time": "2025-02-11T16:14:55.536Z"
   },
   {
    "duration": 19,
    "start_time": "2025-02-11T16:21:44.767Z"
   },
   {
    "duration": 20,
    "start_time": "2025-02-11T16:21:50.362Z"
   },
   {
    "duration": 20,
    "start_time": "2025-02-11T16:21:56.477Z"
   },
   {
    "duration": 580,
    "start_time": "2025-02-11T16:25:15.375Z"
   },
   {
    "duration": 609,
    "start_time": "2025-02-11T16:25:28.546Z"
   },
   {
    "duration": 7,
    "start_time": "2025-02-11T16:27:51.948Z"
   },
   {
    "duration": 535,
    "start_time": "2025-02-11T16:28:15.215Z"
   },
   {
    "duration": 655,
    "start_time": "2025-02-11T16:28:44.016Z"
   },
   {
    "duration": 8,
    "start_time": "2025-02-11T16:32:43.472Z"
   },
   {
    "duration": 6,
    "start_time": "2025-02-11T16:33:56.734Z"
   },
   {
    "duration": 14,
    "start_time": "2025-02-11T16:37:48.997Z"
   },
   {
    "duration": 3,
    "start_time": "2025-02-11T16:39:46.650Z"
   },
   {
    "duration": 12,
    "start_time": "2025-02-11T16:39:56.105Z"
   },
   {
    "duration": 9,
    "start_time": "2025-02-11T16:40:02.422Z"
   },
   {
    "duration": 13,
    "start_time": "2025-02-11T16:45:48.783Z"
   },
   {
    "duration": 3,
    "start_time": "2025-02-11T16:48:18.973Z"
   },
   {
    "duration": 6,
    "start_time": "2025-02-11T16:48:25.875Z"
   },
   {
    "duration": 15,
    "start_time": "2025-02-11T16:57:32.993Z"
   },
   {
    "duration": 14,
    "start_time": "2025-02-11T17:00:36.101Z"
   },
   {
    "duration": 6,
    "start_time": "2025-02-11T17:00:45.070Z"
   },
   {
    "duration": 8,
    "start_time": "2025-02-11T17:01:16.474Z"
   },
   {
    "duration": 120,
    "start_time": "2025-02-11T17:15:18.656Z"
   },
   {
    "duration": 21,
    "start_time": "2025-02-11T17:19:48.770Z"
   },
   {
    "duration": 5,
    "start_time": "2025-02-11T17:19:58.250Z"
   },
   {
    "duration": 3,
    "start_time": "2025-02-11T17:24:06.632Z"
   },
   {
    "duration": 4,
    "start_time": "2025-02-11T17:26:08.878Z"
   },
   {
    "duration": 4,
    "start_time": "2025-02-11T17:26:13.380Z"
   },
   {
    "duration": 109,
    "start_time": "2025-02-11T17:27:46.736Z"
   },
   {
    "duration": 14,
    "start_time": "2025-02-11T17:30:20.352Z"
   },
   {
    "duration": 3,
    "start_time": "2025-02-11T17:30:55.793Z"
   },
   {
    "duration": 9,
    "start_time": "2025-02-11T17:31:14.776Z"
   },
   {
    "duration": 16,
    "start_time": "2025-02-11T17:39:40.428Z"
   },
   {
    "duration": 4,
    "start_time": "2025-02-11T17:40:04.099Z"
   },
   {
    "duration": 16,
    "start_time": "2025-02-11T17:40:07.838Z"
   },
   {
    "duration": 131,
    "start_time": "2025-02-11T17:40:15.891Z"
   },
   {
    "duration": 5,
    "start_time": "2025-02-11T17:47:22.437Z"
   },
   {
    "duration": 6,
    "start_time": "2025-02-11T17:49:51.027Z"
   },
   {
    "duration": 5,
    "start_time": "2025-02-11T17:50:05.457Z"
   },
   {
    "duration": 4,
    "start_time": "2025-02-11T17:50:53.301Z"
   },
   {
    "duration": 5,
    "start_time": "2025-02-11T17:50:57.715Z"
   },
   {
    "duration": 10,
    "start_time": "2025-02-11T17:51:01.107Z"
   },
   {
    "duration": 6,
    "start_time": "2025-02-11T17:51:05.089Z"
   },
   {
    "duration": 15,
    "start_time": "2025-02-11T17:51:08.773Z"
   },
   {
    "duration": 6,
    "start_time": "2025-02-11T17:51:12.793Z"
   },
   {
    "duration": 8,
    "start_time": "2025-02-11T17:51:15.355Z"
   },
   {
    "duration": 5,
    "start_time": "2025-02-11T17:51:18.890Z"
   },
   {
    "duration": 17,
    "start_time": "2025-02-11T18:06:27.773Z"
   },
   {
    "duration": 1442,
    "start_time": "2025-02-11T18:06:55.401Z"
   },
   {
    "duration": 4,
    "start_time": "2025-02-11T18:18:22.497Z"
   },
   {
    "duration": 8,
    "start_time": "2025-02-11T18:20:22.396Z"
   },
   {
    "duration": 3,
    "start_time": "2025-02-11T18:20:28.122Z"
   },
   {
    "duration": 9,
    "start_time": "2025-02-11T18:20:31.181Z"
   },
   {
    "duration": 991,
    "start_time": "2025-02-11T18:21:54.914Z"
   },
   {
    "duration": 74,
    "start_time": "2025-02-11T18:21:55.908Z"
   },
   {
    "duration": 15,
    "start_time": "2025-02-11T18:21:55.985Z"
   },
   {
    "duration": 10,
    "start_time": "2025-02-11T18:21:56.003Z"
   },
   {
    "duration": 28,
    "start_time": "2025-02-11T18:21:56.015Z"
   },
   {
    "duration": 12,
    "start_time": "2025-02-11T18:21:56.045Z"
   },
   {
    "duration": 7,
    "start_time": "2025-02-11T18:21:56.061Z"
   },
   {
    "duration": 80,
    "start_time": "2025-02-11T18:21:56.070Z"
   },
   {
    "duration": 11,
    "start_time": "2025-02-11T18:21:56.153Z"
   },
   {
    "duration": 111,
    "start_time": "2025-02-11T18:21:56.170Z"
   },
   {
    "duration": 60,
    "start_time": "2025-02-11T18:21:56.283Z"
   },
   {
    "duration": 21,
    "start_time": "2025-02-11T18:21:56.345Z"
   },
   {
    "duration": 23,
    "start_time": "2025-02-11T18:21:56.369Z"
   },
   {
    "duration": 24,
    "start_time": "2025-02-11T18:21:56.395Z"
   },
   {
    "duration": 645,
    "start_time": "2025-02-11T18:21:56.423Z"
   },
   {
    "duration": 7,
    "start_time": "2025-02-11T18:21:57.069Z"
   },
   {
    "duration": 6,
    "start_time": "2025-02-11T18:21:57.077Z"
   },
   {
    "duration": 57,
    "start_time": "2025-02-11T18:21:57.085Z"
   },
   {
    "duration": 7,
    "start_time": "2025-02-11T18:21:57.144Z"
   },
   {
    "duration": 20,
    "start_time": "2025-02-11T18:21:57.152Z"
   },
   {
    "duration": 69,
    "start_time": "2025-02-11T18:21:57.174Z"
   },
   {
    "duration": 9,
    "start_time": "2025-02-11T18:21:57.245Z"
   },
   {
    "duration": 5,
    "start_time": "2025-02-11T18:21:57.256Z"
   },
   {
    "duration": 6,
    "start_time": "2025-02-11T18:21:57.263Z"
   },
   {
    "duration": 3,
    "start_time": "2025-02-11T18:21:57.271Z"
   },
   {
    "duration": 70,
    "start_time": "2025-02-11T18:21:57.276Z"
   },
   {
    "duration": 186,
    "start_time": "2025-02-11T18:21:57.348Z"
   },
   {
    "duration": 1469,
    "start_time": "2025-02-11T18:21:57.543Z"
   },
   {
    "duration": 5,
    "start_time": "2025-02-11T18:21:59.014Z"
   },
   {
    "duration": 8,
    "start_time": "2025-02-11T18:21:59.020Z"
   },
   {
    "duration": 6,
    "start_time": "2025-02-11T18:24:40.407Z"
   },
   {
    "duration": 7,
    "start_time": "2025-02-11T18:27:34.770Z"
   },
   {
    "duration": 142,
    "start_time": "2025-02-11T18:44:07.111Z"
   },
   {
    "duration": 225,
    "start_time": "2025-02-11T18:47:39.213Z"
   },
   {
    "duration": 4,
    "start_time": "2025-02-11T18:48:05.612Z"
   },
   {
    "duration": 4,
    "start_time": "2025-02-11T18:48:08.985Z"
   },
   {
    "duration": 5,
    "start_time": "2025-02-11T18:48:25.470Z"
   },
   {
    "duration": 924,
    "start_time": "2025-02-11T18:55:10.760Z"
   },
   {
    "duration": 74,
    "start_time": "2025-02-11T18:55:11.687Z"
   },
   {
    "duration": 13,
    "start_time": "2025-02-11T18:55:11.763Z"
   },
   {
    "duration": 10,
    "start_time": "2025-02-11T18:55:11.778Z"
   },
   {
    "duration": 11,
    "start_time": "2025-02-11T18:55:11.790Z"
   },
   {
    "duration": 11,
    "start_time": "2025-02-11T18:55:11.803Z"
   },
   {
    "duration": 30,
    "start_time": "2025-02-11T18:55:11.815Z"
   },
   {
    "duration": 31,
    "start_time": "2025-02-11T18:55:11.848Z"
   },
   {
    "duration": 6,
    "start_time": "2025-02-11T18:55:11.880Z"
   },
   {
    "duration": 156,
    "start_time": "2025-02-11T18:55:11.888Z"
   },
   {
    "duration": 21,
    "start_time": "2025-02-11T18:55:12.046Z"
   },
   {
    "duration": 20,
    "start_time": "2025-02-11T18:55:12.069Z"
   },
   {
    "duration": 17,
    "start_time": "2025-02-11T18:55:12.091Z"
   },
   {
    "duration": 44,
    "start_time": "2025-02-11T18:55:12.111Z"
   },
   {
    "duration": 800,
    "start_time": "2025-02-11T18:55:12.156Z"
   },
   {
    "duration": 7,
    "start_time": "2025-02-11T18:55:12.958Z"
   },
   {
    "duration": 13,
    "start_time": "2025-02-11T18:55:12.966Z"
   },
   {
    "duration": 9,
    "start_time": "2025-02-11T18:55:12.980Z"
   },
   {
    "duration": 9,
    "start_time": "2025-02-11T18:55:13.044Z"
   },
   {
    "duration": 21,
    "start_time": "2025-02-11T18:55:13.054Z"
   },
   {
    "duration": 66,
    "start_time": "2025-02-11T18:55:13.077Z"
   },
   {
    "duration": 8,
    "start_time": "2025-02-11T18:55:13.147Z"
   },
   {
    "duration": 6,
    "start_time": "2025-02-11T18:55:13.157Z"
   },
   {
    "duration": 78,
    "start_time": "2025-02-11T18:55:13.165Z"
   },
   {
    "duration": 4,
    "start_time": "2025-02-11T18:55:13.245Z"
   },
   {
    "duration": 10,
    "start_time": "2025-02-11T18:55:13.251Z"
   },
   {
    "duration": 213,
    "start_time": "2025-02-11T18:55:13.263Z"
   },
   {
    "duration": 1414,
    "start_time": "2025-02-11T18:55:13.477Z"
   },
   {
    "duration": 3,
    "start_time": "2025-02-11T18:55:14.892Z"
   },
   {
    "duration": 245,
    "start_time": "2025-02-11T18:55:14.898Z"
   },
   {
    "duration": 0,
    "start_time": "2025-02-11T18:55:15.145Z"
   },
   {
    "duration": 0,
    "start_time": "2025-02-11T18:55:15.147Z"
   },
   {
    "duration": 0,
    "start_time": "2025-02-11T18:55:15.148Z"
   },
   {
    "duration": 0,
    "start_time": "2025-02-11T18:55:15.150Z"
   },
   {
    "duration": 11,
    "start_time": "2025-02-11T18:56:20.478Z"
   },
   {
    "duration": 15,
    "start_time": "2025-02-11T18:56:28.369Z"
   },
   {
    "duration": 5,
    "start_time": "2025-02-11T18:56:40.136Z"
   },
   {
    "duration": 904,
    "start_time": "2025-02-11T18:56:48.389Z"
   },
   {
    "duration": 72,
    "start_time": "2025-02-11T18:56:49.295Z"
   },
   {
    "duration": 13,
    "start_time": "2025-02-11T18:56:49.369Z"
   },
   {
    "duration": 9,
    "start_time": "2025-02-11T18:56:49.384Z"
   },
   {
    "duration": 11,
    "start_time": "2025-02-11T18:56:49.395Z"
   },
   {
    "duration": 12,
    "start_time": "2025-02-11T18:56:49.407Z"
   },
   {
    "duration": 4,
    "start_time": "2025-02-11T18:56:49.443Z"
   },
   {
    "duration": 34,
    "start_time": "2025-02-11T18:56:49.449Z"
   },
   {
    "duration": 59,
    "start_time": "2025-02-11T18:56:49.485Z"
   },
   {
    "duration": 102,
    "start_time": "2025-02-11T18:56:49.548Z"
   },
   {
    "duration": 21,
    "start_time": "2025-02-11T18:56:49.651Z"
   },
   {
    "duration": 19,
    "start_time": "2025-02-11T18:56:49.673Z"
   },
   {
    "duration": 17,
    "start_time": "2025-02-11T18:56:49.694Z"
   },
   {
    "duration": 39,
    "start_time": "2025-02-11T18:56:49.713Z"
   },
   {
    "duration": 738,
    "start_time": "2025-02-11T18:56:49.754Z"
   },
   {
    "duration": 9,
    "start_time": "2025-02-11T18:56:50.493Z"
   },
   {
    "duration": 5,
    "start_time": "2025-02-11T18:56:50.503Z"
   },
   {
    "duration": 43,
    "start_time": "2025-02-11T18:56:50.510Z"
   },
   {
    "duration": 10,
    "start_time": "2025-02-11T18:56:50.555Z"
   },
   {
    "duration": 85,
    "start_time": "2025-02-11T18:56:50.566Z"
   },
   {
    "duration": 6,
    "start_time": "2025-02-11T18:56:50.653Z"
   },
   {
    "duration": 9,
    "start_time": "2025-02-11T18:56:50.660Z"
   },
   {
    "duration": 5,
    "start_time": "2025-02-11T18:56:50.671Z"
   },
   {
    "duration": 71,
    "start_time": "2025-02-11T18:56:50.678Z"
   },
   {
    "duration": 3,
    "start_time": "2025-02-11T18:56:50.752Z"
   },
   {
    "duration": 10,
    "start_time": "2025-02-11T18:56:50.757Z"
   },
   {
    "duration": 236,
    "start_time": "2025-02-11T18:56:50.769Z"
   },
   {
    "duration": 1434,
    "start_time": "2025-02-11T18:56:51.009Z"
   },
   {
    "duration": 3,
    "start_time": "2025-02-11T18:56:52.444Z"
   },
   {
    "duration": 8,
    "start_time": "2025-02-11T18:56:52.449Z"
   },
   {
    "duration": 5,
    "start_time": "2025-02-11T18:56:52.459Z"
   },
   {
    "duration": 6,
    "start_time": "2025-02-11T18:56:52.465Z"
   },
   {
    "duration": 150,
    "start_time": "2025-02-11T18:56:52.473Z"
   },
   {
    "duration": 5,
    "start_time": "2025-02-11T18:56:52.625Z"
   },
   {
    "duration": 235,
    "start_time": "2025-02-11T19:02:23.152Z"
   },
   {
    "duration": 7,
    "start_time": "2025-02-11T19:02:34.715Z"
   },
   {
    "duration": 888,
    "start_time": "2025-02-11T19:03:34.333Z"
   },
   {
    "duration": 89,
    "start_time": "2025-02-11T19:03:35.223Z"
   },
   {
    "duration": 15,
    "start_time": "2025-02-11T19:03:35.313Z"
   },
   {
    "duration": 18,
    "start_time": "2025-02-11T19:03:35.330Z"
   },
   {
    "duration": 11,
    "start_time": "2025-02-11T19:03:35.350Z"
   },
   {
    "duration": 11,
    "start_time": "2025-02-11T19:03:35.362Z"
   },
   {
    "duration": 6,
    "start_time": "2025-02-11T19:03:35.375Z"
   },
   {
    "duration": 6,
    "start_time": "2025-02-11T19:03:35.383Z"
   },
   {
    "duration": 3,
    "start_time": "2025-02-11T19:03:35.391Z"
   },
   {
    "duration": 2,
    "start_time": "2025-02-11T19:03:35.398Z"
   },
   {
    "duration": 61,
    "start_time": "2025-02-11T19:03:35.402Z"
   },
   {
    "duration": 20,
    "start_time": "2025-02-11T19:03:35.464Z"
   },
   {
    "duration": 19,
    "start_time": "2025-02-11T19:03:35.486Z"
   },
   {
    "duration": 40,
    "start_time": "2025-02-11T19:03:35.506Z"
   },
   {
    "duration": 784,
    "start_time": "2025-02-11T19:03:35.548Z"
   },
   {
    "duration": 8,
    "start_time": "2025-02-11T19:03:36.335Z"
   },
   {
    "duration": 6,
    "start_time": "2025-02-11T19:03:36.345Z"
   },
   {
    "duration": 9,
    "start_time": "2025-02-11T19:03:36.353Z"
   },
   {
    "duration": 80,
    "start_time": "2025-02-11T19:03:36.363Z"
   },
   {
    "duration": 16,
    "start_time": "2025-02-11T19:03:36.446Z"
   },
   {
    "duration": 5,
    "start_time": "2025-02-11T19:03:36.463Z"
   },
   {
    "duration": 9,
    "start_time": "2025-02-11T19:03:36.469Z"
   },
   {
    "duration": 64,
    "start_time": "2025-02-11T19:03:36.480Z"
   },
   {
    "duration": 8,
    "start_time": "2025-02-11T19:03:36.546Z"
   },
   {
    "duration": 3,
    "start_time": "2025-02-11T19:03:36.556Z"
   },
   {
    "duration": 86,
    "start_time": "2025-02-11T19:03:36.561Z"
   },
   {
    "duration": 173,
    "start_time": "2025-02-11T19:03:36.649Z"
   },
   {
    "duration": 1429,
    "start_time": "2025-02-11T19:03:36.826Z"
   },
   {
    "duration": 3,
    "start_time": "2025-02-11T19:03:38.257Z"
   },
   {
    "duration": 261,
    "start_time": "2025-02-11T19:03:38.263Z"
   },
   {
    "duration": 0,
    "start_time": "2025-02-11T19:03:38.526Z"
   },
   {
    "duration": 0,
    "start_time": "2025-02-11T19:03:38.527Z"
   },
   {
    "duration": 0,
    "start_time": "2025-02-11T19:03:38.528Z"
   },
   {
    "duration": 0,
    "start_time": "2025-02-11T19:03:38.529Z"
   },
   {
    "duration": 884,
    "start_time": "2025-02-11T19:06:14.206Z"
   },
   {
    "duration": 68,
    "start_time": "2025-02-11T19:06:15.092Z"
   },
   {
    "duration": 16,
    "start_time": "2025-02-11T19:06:15.162Z"
   },
   {
    "duration": 13,
    "start_time": "2025-02-11T19:06:15.187Z"
   },
   {
    "duration": 12,
    "start_time": "2025-02-11T19:06:15.202Z"
   },
   {
    "duration": 10,
    "start_time": "2025-02-11T19:06:15.215Z"
   },
   {
    "duration": 4,
    "start_time": "2025-02-11T19:06:15.243Z"
   },
   {
    "duration": 5,
    "start_time": "2025-02-11T19:06:15.249Z"
   },
   {
    "duration": 2,
    "start_time": "2025-02-11T19:06:15.256Z"
   },
   {
    "duration": 3,
    "start_time": "2025-02-11T19:06:15.260Z"
   },
   {
    "duration": 20,
    "start_time": "2025-02-11T19:06:15.264Z"
   },
   {
    "duration": 20,
    "start_time": "2025-02-11T19:06:15.286Z"
   },
   {
    "duration": 51,
    "start_time": "2025-02-11T19:06:15.307Z"
   },
   {
    "duration": 15,
    "start_time": "2025-02-11T19:06:15.362Z"
   },
   {
    "duration": 777,
    "start_time": "2025-02-11T19:06:15.379Z"
   },
   {
    "duration": 5,
    "start_time": "2025-02-11T19:06:16.158Z"
   },
   {
    "duration": 5,
    "start_time": "2025-02-11T19:06:16.164Z"
   },
   {
    "duration": 8,
    "start_time": "2025-02-11T19:06:16.171Z"
   },
   {
    "duration": 4,
    "start_time": "2025-02-11T19:06:16.243Z"
   },
   {
    "duration": 17,
    "start_time": "2025-02-11T19:06:16.249Z"
   },
   {
    "duration": 75,
    "start_time": "2025-02-11T19:06:16.268Z"
   },
   {
    "duration": 8,
    "start_time": "2025-02-11T19:06:16.345Z"
   },
   {
    "duration": 4,
    "start_time": "2025-02-11T19:06:16.355Z"
   },
   {
    "duration": 5,
    "start_time": "2025-02-11T19:06:16.361Z"
   },
   {
    "duration": 3,
    "start_time": "2025-02-11T19:06:16.443Z"
   },
   {
    "duration": 12,
    "start_time": "2025-02-11T19:06:16.448Z"
   },
   {
    "duration": 204,
    "start_time": "2025-02-11T19:06:16.462Z"
   },
   {
    "duration": 1437,
    "start_time": "2025-02-11T19:06:16.668Z"
   },
   {
    "duration": 4,
    "start_time": "2025-02-11T19:06:18.107Z"
   },
   {
    "duration": 9,
    "start_time": "2025-02-11T19:06:18.112Z"
   },
   {
    "duration": 251,
    "start_time": "2025-02-11T19:06:18.123Z"
   },
   {
    "duration": 0,
    "start_time": "2025-02-11T19:06:18.376Z"
   },
   {
    "duration": 0,
    "start_time": "2025-02-11T19:06:18.377Z"
   },
   {
    "duration": 0,
    "start_time": "2025-02-11T19:06:18.378Z"
   },
   {
    "duration": 911,
    "start_time": "2025-02-11T19:08:55.283Z"
   },
   {
    "duration": 81,
    "start_time": "2025-02-11T19:08:56.196Z"
   },
   {
    "duration": 13,
    "start_time": "2025-02-11T19:08:56.279Z"
   },
   {
    "duration": 13,
    "start_time": "2025-02-11T19:08:56.295Z"
   },
   {
    "duration": 33,
    "start_time": "2025-02-11T19:08:56.311Z"
   },
   {
    "duration": 12,
    "start_time": "2025-02-11T19:08:56.345Z"
   },
   {
    "duration": 4,
    "start_time": "2025-02-11T19:08:56.359Z"
   },
   {
    "duration": 6,
    "start_time": "2025-02-11T19:08:56.364Z"
   },
   {
    "duration": 3,
    "start_time": "2025-02-11T19:08:56.372Z"
   },
   {
    "duration": 3,
    "start_time": "2025-02-11T19:08:56.376Z"
   },
   {
    "duration": 20,
    "start_time": "2025-02-11T19:08:56.382Z"
   },
   {
    "duration": 52,
    "start_time": "2025-02-11T19:08:56.404Z"
   },
   {
    "duration": 20,
    "start_time": "2025-02-11T19:08:56.458Z"
   },
   {
    "duration": 15,
    "start_time": "2025-02-11T19:08:56.481Z"
   },
   {
    "duration": 789,
    "start_time": "2025-02-11T19:08:56.498Z"
   },
   {
    "duration": 5,
    "start_time": "2025-02-11T19:08:57.290Z"
   },
   {
    "duration": 6,
    "start_time": "2025-02-11T19:08:57.298Z"
   },
   {
    "duration": 20,
    "start_time": "2025-02-11T19:08:57.343Z"
   },
   {
    "duration": 7,
    "start_time": "2025-02-11T19:08:57.365Z"
   },
   {
    "duration": 82,
    "start_time": "2025-02-11T19:08:57.374Z"
   },
   {
    "duration": 5,
    "start_time": "2025-02-11T19:08:57.458Z"
   },
   {
    "duration": 8,
    "start_time": "2025-02-11T19:08:57.464Z"
   },
   {
    "duration": 5,
    "start_time": "2025-02-11T19:08:57.474Z"
   },
   {
    "duration": 5,
    "start_time": "2025-02-11T19:08:57.543Z"
   },
   {
    "duration": 5,
    "start_time": "2025-02-11T19:08:57.551Z"
   },
   {
    "duration": 87,
    "start_time": "2025-02-11T19:08:57.559Z"
   },
   {
    "duration": 160,
    "start_time": "2025-02-11T19:08:57.648Z"
   },
   {
    "duration": 1428,
    "start_time": "2025-02-11T19:08:57.809Z"
   },
   {
    "duration": 4,
    "start_time": "2025-02-11T19:08:59.239Z"
   },
   {
    "duration": 10,
    "start_time": "2025-02-11T19:08:59.245Z"
   },
   {
    "duration": 254,
    "start_time": "2025-02-11T19:08:59.256Z"
   },
   {
    "duration": 0,
    "start_time": "2025-02-11T19:08:59.512Z"
   },
   {
    "duration": 0,
    "start_time": "2025-02-11T19:08:59.513Z"
   },
   {
    "duration": 0,
    "start_time": "2025-02-11T19:08:59.515Z"
   },
   {
    "duration": 898,
    "start_time": "2025-02-11T19:09:32.212Z"
   },
   {
    "duration": 71,
    "start_time": "2025-02-11T19:09:33.112Z"
   },
   {
    "duration": 13,
    "start_time": "2025-02-11T19:09:33.184Z"
   },
   {
    "duration": 9,
    "start_time": "2025-02-11T19:09:33.200Z"
   },
   {
    "duration": 10,
    "start_time": "2025-02-11T19:09:33.213Z"
   },
   {
    "duration": 11,
    "start_time": "2025-02-11T19:09:33.243Z"
   },
   {
    "duration": 4,
    "start_time": "2025-02-11T19:09:33.255Z"
   },
   {
    "duration": 5,
    "start_time": "2025-02-11T19:09:33.261Z"
   },
   {
    "duration": 3,
    "start_time": "2025-02-11T19:09:33.268Z"
   },
   {
    "duration": 3,
    "start_time": "2025-02-11T19:09:33.272Z"
   },
   {
    "duration": 20,
    "start_time": "2025-02-11T19:09:33.277Z"
   },
   {
    "duration": 57,
    "start_time": "2025-02-11T19:09:33.299Z"
   },
   {
    "duration": 19,
    "start_time": "2025-02-11T19:09:33.357Z"
   },
   {
    "duration": 15,
    "start_time": "2025-02-11T19:09:33.380Z"
   },
   {
    "duration": 778,
    "start_time": "2025-02-11T19:09:33.397Z"
   },
   {
    "duration": 6,
    "start_time": "2025-02-11T19:09:34.176Z"
   },
   {
    "duration": 5,
    "start_time": "2025-02-11T19:09:34.184Z"
   },
   {
    "duration": 57,
    "start_time": "2025-02-11T19:09:34.191Z"
   },
   {
    "duration": 6,
    "start_time": "2025-02-11T19:09:34.250Z"
   },
   {
    "duration": 90,
    "start_time": "2025-02-11T19:09:34.258Z"
   },
   {
    "duration": 5,
    "start_time": "2025-02-11T19:09:34.350Z"
   },
   {
    "duration": 9,
    "start_time": "2025-02-11T19:09:34.357Z"
   },
   {
    "duration": 75,
    "start_time": "2025-02-11T19:09:34.368Z"
   },
   {
    "duration": 6,
    "start_time": "2025-02-11T19:09:34.444Z"
   },
   {
    "duration": 6,
    "start_time": "2025-02-11T19:09:34.453Z"
   },
   {
    "duration": 85,
    "start_time": "2025-02-11T19:09:34.462Z"
   },
   {
    "duration": 164,
    "start_time": "2025-02-11T19:09:34.549Z"
   },
   {
    "duration": 1427,
    "start_time": "2025-02-11T19:09:34.715Z"
   },
   {
    "duration": 3,
    "start_time": "2025-02-11T19:09:36.144Z"
   },
   {
    "duration": 10,
    "start_time": "2025-02-11T19:09:36.149Z"
   },
   {
    "duration": 6,
    "start_time": "2025-02-11T19:09:36.163Z"
   },
   {
    "duration": 7,
    "start_time": "2025-02-11T19:09:36.171Z"
   },
   {
    "duration": 149,
    "start_time": "2025-02-11T19:09:36.180Z"
   },
   {
    "duration": 12,
    "start_time": "2025-02-11T19:09:36.331Z"
   },
   {
    "duration": 2656,
    "start_time": "2025-02-11T21:50:47.502Z"
   },
   {
    "duration": 33,
    "start_time": "2025-02-11T21:50:50.160Z"
   },
   {
    "duration": 13,
    "start_time": "2025-02-11T21:50:50.196Z"
   },
   {
    "duration": 10,
    "start_time": "2025-02-11T21:50:50.211Z"
   },
   {
    "duration": 11,
    "start_time": "2025-02-11T21:50:50.222Z"
   },
   {
    "duration": 247,
    "start_time": "2025-02-11T21:50:50.235Z"
   },
   {
    "duration": 0,
    "start_time": "2025-02-11T21:50:50.484Z"
   },
   {
    "duration": 0,
    "start_time": "2025-02-11T21:50:50.485Z"
   },
   {
    "duration": 0,
    "start_time": "2025-02-11T21:50:50.486Z"
   },
   {
    "duration": 0,
    "start_time": "2025-02-11T21:50:50.487Z"
   },
   {
    "duration": 0,
    "start_time": "2025-02-11T21:50:50.489Z"
   },
   {
    "duration": 0,
    "start_time": "2025-02-11T21:50:50.490Z"
   },
   {
    "duration": 0,
    "start_time": "2025-02-11T21:50:50.492Z"
   },
   {
    "duration": 0,
    "start_time": "2025-02-11T21:50:50.493Z"
   },
   {
    "duration": 0,
    "start_time": "2025-02-11T21:50:50.495Z"
   },
   {
    "duration": 0,
    "start_time": "2025-02-11T21:50:50.496Z"
   },
   {
    "duration": 0,
    "start_time": "2025-02-11T21:50:50.496Z"
   },
   {
    "duration": 0,
    "start_time": "2025-02-11T21:50:50.497Z"
   },
   {
    "duration": 0,
    "start_time": "2025-02-11T21:50:50.497Z"
   },
   {
    "duration": 0,
    "start_time": "2025-02-11T21:50:50.498Z"
   },
   {
    "duration": 0,
    "start_time": "2025-02-11T21:50:50.498Z"
   },
   {
    "duration": 0,
    "start_time": "2025-02-11T21:50:50.512Z"
   },
   {
    "duration": 0,
    "start_time": "2025-02-11T21:50:50.514Z"
   },
   {
    "duration": 0,
    "start_time": "2025-02-11T21:50:50.515Z"
   },
   {
    "duration": 0,
    "start_time": "2025-02-11T21:50:50.516Z"
   },
   {
    "duration": 0,
    "start_time": "2025-02-11T21:50:50.517Z"
   },
   {
    "duration": 0,
    "start_time": "2025-02-11T21:50:50.519Z"
   },
   {
    "duration": 0,
    "start_time": "2025-02-11T21:50:50.520Z"
   },
   {
    "duration": 0,
    "start_time": "2025-02-11T21:50:50.521Z"
   },
   {
    "duration": 0,
    "start_time": "2025-02-11T21:50:50.522Z"
   },
   {
    "duration": 0,
    "start_time": "2025-02-11T21:50:50.523Z"
   },
   {
    "duration": 0,
    "start_time": "2025-02-11T21:50:50.525Z"
   },
   {
    "duration": 4,
    "start_time": "2025-02-11T21:52:14.445Z"
   },
   {
    "duration": 892,
    "start_time": "2025-02-11T21:52:25.123Z"
   },
   {
    "duration": 72,
    "start_time": "2025-02-11T21:52:26.017Z"
   },
   {
    "duration": 22,
    "start_time": "2025-02-11T21:52:26.091Z"
   },
   {
    "duration": 11,
    "start_time": "2025-02-11T21:52:26.115Z"
   },
   {
    "duration": 14,
    "start_time": "2025-02-11T21:52:26.129Z"
   },
   {
    "duration": 3,
    "start_time": "2025-02-11T21:52:26.145Z"
   },
   {
    "duration": 11,
    "start_time": "2025-02-11T21:52:26.150Z"
   },
   {
    "duration": 6,
    "start_time": "2025-02-11T21:52:26.163Z"
   },
   {
    "duration": 53,
    "start_time": "2025-02-11T21:52:26.170Z"
   },
   {
    "duration": 20,
    "start_time": "2025-02-11T21:52:26.224Z"
   },
   {
    "duration": 18,
    "start_time": "2025-02-11T21:52:26.245Z"
   },
   {
    "duration": 172,
    "start_time": "2025-02-11T21:52:26.265Z"
   },
   {
    "duration": 0,
    "start_time": "2025-02-11T21:52:26.439Z"
   },
   {
    "duration": 0,
    "start_time": "2025-02-11T21:52:26.440Z"
   },
   {
    "duration": 0,
    "start_time": "2025-02-11T21:52:26.441Z"
   },
   {
    "duration": 0,
    "start_time": "2025-02-11T21:52:26.442Z"
   },
   {
    "duration": 0,
    "start_time": "2025-02-11T21:52:26.443Z"
   },
   {
    "duration": 1,
    "start_time": "2025-02-11T21:52:26.444Z"
   },
   {
    "duration": 0,
    "start_time": "2025-02-11T21:52:26.446Z"
   },
   {
    "duration": 0,
    "start_time": "2025-02-11T21:52:26.448Z"
   },
   {
    "duration": 0,
    "start_time": "2025-02-11T21:52:26.449Z"
   },
   {
    "duration": 0,
    "start_time": "2025-02-11T21:52:26.451Z"
   },
   {
    "duration": 0,
    "start_time": "2025-02-11T21:52:26.452Z"
   },
   {
    "duration": 0,
    "start_time": "2025-02-11T21:52:26.454Z"
   },
   {
    "duration": 0,
    "start_time": "2025-02-11T21:52:26.455Z"
   },
   {
    "duration": 0,
    "start_time": "2025-02-11T21:52:26.457Z"
   },
   {
    "duration": 0,
    "start_time": "2025-02-11T21:52:26.459Z"
   },
   {
    "duration": 0,
    "start_time": "2025-02-11T21:52:26.460Z"
   },
   {
    "duration": 0,
    "start_time": "2025-02-11T21:52:26.462Z"
   },
   {
    "duration": 0,
    "start_time": "2025-02-11T21:52:26.463Z"
   },
   {
    "duration": 0,
    "start_time": "2025-02-11T21:52:26.465Z"
   },
   {
    "duration": 0,
    "start_time": "2025-02-11T21:52:26.466Z"
   },
   {
    "duration": 4,
    "start_time": "2025-02-11T21:56:31.154Z"
   },
   {
    "duration": 26,
    "start_time": "2025-02-11T21:58:40.040Z"
   },
   {
    "duration": 21,
    "start_time": "2025-02-11T21:59:03.733Z"
   },
   {
    "duration": 22,
    "start_time": "2025-02-11T21:59:15.013Z"
   },
   {
    "duration": 20,
    "start_time": "2025-02-11T21:59:34.445Z"
   },
   {
    "duration": 19,
    "start_time": "2025-02-11T21:59:38.534Z"
   },
   {
    "duration": 27,
    "start_time": "2025-02-11T21:59:47.364Z"
   },
   {
    "duration": 11,
    "start_time": "2025-02-11T22:04:42.976Z"
   },
   {
    "duration": 14,
    "start_time": "2025-02-11T22:07:30.170Z"
   },
   {
    "duration": 6,
    "start_time": "2025-02-11T22:10:49.578Z"
   },
   {
    "duration": 905,
    "start_time": "2025-02-11T22:11:27.356Z"
   },
   {
    "duration": 66,
    "start_time": "2025-02-11T22:11:28.263Z"
   },
   {
    "duration": 13,
    "start_time": "2025-02-11T22:11:28.331Z"
   },
   {
    "duration": 9,
    "start_time": "2025-02-11T22:11:28.346Z"
   },
   {
    "duration": 11,
    "start_time": "2025-02-11T22:11:28.356Z"
   },
   {
    "duration": 4,
    "start_time": "2025-02-11T22:11:28.369Z"
   },
   {
    "duration": 44,
    "start_time": "2025-02-11T22:11:28.375Z"
   },
   {
    "duration": 5,
    "start_time": "2025-02-11T22:11:28.421Z"
   },
   {
    "duration": 19,
    "start_time": "2025-02-11T22:11:28.428Z"
   },
   {
    "duration": 20,
    "start_time": "2025-02-11T22:11:28.451Z"
   },
   {
    "duration": 49,
    "start_time": "2025-02-11T22:11:28.472Z"
   },
   {
    "duration": 157,
    "start_time": "2025-02-11T22:11:28.523Z"
   },
   {
    "duration": 0,
    "start_time": "2025-02-11T22:11:28.682Z"
   },
   {
    "duration": 0,
    "start_time": "2025-02-11T22:11:28.683Z"
   },
   {
    "duration": 0,
    "start_time": "2025-02-11T22:11:28.684Z"
   },
   {
    "duration": 0,
    "start_time": "2025-02-11T22:11:28.685Z"
   },
   {
    "duration": 0,
    "start_time": "2025-02-11T22:11:28.686Z"
   },
   {
    "duration": 0,
    "start_time": "2025-02-11T22:11:28.687Z"
   },
   {
    "duration": 0,
    "start_time": "2025-02-11T22:11:28.688Z"
   },
   {
    "duration": 0,
    "start_time": "2025-02-11T22:11:28.689Z"
   },
   {
    "duration": 1,
    "start_time": "2025-02-11T22:11:28.690Z"
   },
   {
    "duration": 0,
    "start_time": "2025-02-11T22:11:28.691Z"
   },
   {
    "duration": 0,
    "start_time": "2025-02-11T22:11:28.692Z"
   },
   {
    "duration": 0,
    "start_time": "2025-02-11T22:11:28.693Z"
   },
   {
    "duration": 0,
    "start_time": "2025-02-11T22:11:28.693Z"
   },
   {
    "duration": 0,
    "start_time": "2025-02-11T22:11:28.694Z"
   },
   {
    "duration": 0,
    "start_time": "2025-02-11T22:11:28.695Z"
   },
   {
    "duration": 0,
    "start_time": "2025-02-11T22:11:28.696Z"
   },
   {
    "duration": 0,
    "start_time": "2025-02-11T22:11:28.696Z"
   },
   {
    "duration": 0,
    "start_time": "2025-02-11T22:11:28.697Z"
   },
   {
    "duration": 0,
    "start_time": "2025-02-11T22:11:28.697Z"
   },
   {
    "duration": 0,
    "start_time": "2025-02-11T22:11:28.698Z"
   },
   {
    "duration": 23,
    "start_time": "2025-02-11T23:20:57.097Z"
   },
   {
    "duration": 24,
    "start_time": "2025-02-11T23:21:09.888Z"
   },
   {
    "duration": 23,
    "start_time": "2025-02-11T23:21:31.906Z"
   },
   {
    "duration": 10,
    "start_time": "2025-02-11T23:39:43.759Z"
   },
   {
    "duration": 5,
    "start_time": "2025-02-11T23:42:28.096Z"
   },
   {
    "duration": 23,
    "start_time": "2025-02-11T23:42:40.131Z"
   },
   {
    "duration": 24,
    "start_time": "2025-02-11T23:42:53.042Z"
   },
   {
    "duration": 28,
    "start_time": "2025-02-11T23:42:58.015Z"
   },
   {
    "duration": 10,
    "start_time": "2025-02-11T23:43:01.273Z"
   },
   {
    "duration": 16,
    "start_time": "2025-02-11T23:43:19.085Z"
   },
   {
    "duration": 824,
    "start_time": "2025-02-11T23:43:26.933Z"
   },
   {
    "duration": 4,
    "start_time": "2025-02-11T23:46:39.242Z"
   },
   {
    "duration": 6,
    "start_time": "2025-02-11T23:46:44.641Z"
   },
   {
    "duration": 5,
    "start_time": "2025-02-11T23:46:46.339Z"
   },
   {
    "duration": 9,
    "start_time": "2025-02-11T23:46:48.853Z"
   },
   {
    "duration": 6,
    "start_time": "2025-02-11T23:46:53.330Z"
   },
   {
    "duration": 936,
    "start_time": "2025-02-11T23:47:02.575Z"
   },
   {
    "duration": 89,
    "start_time": "2025-02-11T23:47:03.514Z"
   },
   {
    "duration": 18,
    "start_time": "2025-02-11T23:47:03.605Z"
   },
   {
    "duration": 11,
    "start_time": "2025-02-11T23:47:03.627Z"
   },
   {
    "duration": 12,
    "start_time": "2025-02-11T23:47:03.639Z"
   },
   {
    "duration": 4,
    "start_time": "2025-02-11T23:47:03.653Z"
   },
   {
    "duration": 18,
    "start_time": "2025-02-11T23:47:03.659Z"
   },
   {
    "duration": 37,
    "start_time": "2025-02-11T23:47:03.678Z"
   },
   {
    "duration": 26,
    "start_time": "2025-02-11T23:47:03.717Z"
   },
   {
    "duration": 24,
    "start_time": "2025-02-11T23:47:03.746Z"
   },
   {
    "duration": 46,
    "start_time": "2025-02-11T23:47:03.774Z"
   },
   {
    "duration": 9,
    "start_time": "2025-02-11T23:47:03.822Z"
   },
   {
    "duration": 17,
    "start_time": "2025-02-11T23:47:03.833Z"
   },
   {
    "duration": 809,
    "start_time": "2025-02-11T23:47:03.851Z"
   },
   {
    "duration": 7,
    "start_time": "2025-02-11T23:47:04.662Z"
   },
   {
    "duration": 6,
    "start_time": "2025-02-11T23:47:04.670Z"
   },
   {
    "duration": 11,
    "start_time": "2025-02-11T23:47:04.716Z"
   },
   {
    "duration": 5,
    "start_time": "2025-02-11T23:47:04.729Z"
   },
   {
    "duration": 86,
    "start_time": "2025-02-11T23:47:04.738Z"
   },
   {
    "duration": 7,
    "start_time": "2025-02-11T23:47:04.825Z"
   },
   {
    "duration": 11,
    "start_time": "2025-02-11T23:47:04.836Z"
   },
   {
    "duration": 6,
    "start_time": "2025-02-11T23:47:04.913Z"
   },
   {
    "duration": 9,
    "start_time": "2025-02-11T23:47:04.921Z"
   },
   {
    "duration": 4,
    "start_time": "2025-02-11T23:47:04.935Z"
   },
   {
    "duration": 15,
    "start_time": "2025-02-11T23:47:05.016Z"
   },
   {
    "duration": 209,
    "start_time": "2025-02-11T23:47:05.032Z"
   },
   {
    "duration": 1413,
    "start_time": "2025-02-11T23:47:05.243Z"
   },
   {
    "duration": 4,
    "start_time": "2025-02-11T23:47:06.660Z"
   },
   {
    "duration": 9,
    "start_time": "2025-02-11T23:47:06.665Z"
   },
   {
    "duration": 6,
    "start_time": "2025-02-11T23:47:06.675Z"
   },
   {
    "duration": 7,
    "start_time": "2025-02-11T23:47:06.683Z"
   },
   {
    "duration": 150,
    "start_time": "2025-02-11T23:47:06.691Z"
   },
   {
    "duration": 5,
    "start_time": "2025-02-11T23:47:06.843Z"
   },
   {
    "duration": 34,
    "start_time": "2025-02-12T00:15:05.915Z"
   },
   {
    "duration": 10,
    "start_time": "2025-02-12T00:16:01.769Z"
   },
   {
    "duration": 8,
    "start_time": "2025-02-12T00:32:42.744Z"
   },
   {
    "duration": 109,
    "start_time": "2025-02-12T00:33:03.645Z"
   },
   {
    "duration": 5,
    "start_time": "2025-02-12T00:34:54.168Z"
   },
   {
    "duration": 3,
    "start_time": "2025-02-12T00:41:06.115Z"
   },
   {
    "duration": 239,
    "start_time": "2025-02-12T00:47:51.977Z"
   },
   {
    "duration": 3,
    "start_time": "2025-02-12T00:48:19.799Z"
   },
   {
    "duration": 35,
    "start_time": "2025-02-12T00:48:24.010Z"
   },
   {
    "duration": 943,
    "start_time": "2025-02-12T00:59:22.221Z"
   },
   {
    "duration": 75,
    "start_time": "2025-02-12T00:59:23.166Z"
   },
   {
    "duration": 22,
    "start_time": "2025-02-12T00:59:23.244Z"
   },
   {
    "duration": 12,
    "start_time": "2025-02-12T00:59:23.268Z"
   },
   {
    "duration": 12,
    "start_time": "2025-02-12T00:59:23.282Z"
   },
   {
    "duration": 3,
    "start_time": "2025-02-12T00:59:23.311Z"
   },
   {
    "duration": 16,
    "start_time": "2025-02-12T00:59:23.317Z"
   },
   {
    "duration": 6,
    "start_time": "2025-02-12T00:59:23.334Z"
   },
   {
    "duration": 23,
    "start_time": "2025-02-12T00:59:23.341Z"
   },
   {
    "duration": 4,
    "start_time": "2025-02-12T00:59:23.367Z"
   },
   {
    "duration": 0,
    "start_time": "2025-02-12T00:59:23.372Z"
   },
   {
    "duration": 0,
    "start_time": "2025-02-12T00:59:23.373Z"
   },
   {
    "duration": 0,
    "start_time": "2025-02-12T00:59:23.375Z"
   },
   {
    "duration": 0,
    "start_time": "2025-02-12T00:59:23.376Z"
   },
   {
    "duration": 0,
    "start_time": "2025-02-12T00:59:23.377Z"
   },
   {
    "duration": 0,
    "start_time": "2025-02-12T00:59:23.412Z"
   },
   {
    "duration": 0,
    "start_time": "2025-02-12T00:59:23.413Z"
   },
   {
    "duration": 0,
    "start_time": "2025-02-12T00:59:23.414Z"
   },
   {
    "duration": 0,
    "start_time": "2025-02-12T00:59:23.415Z"
   },
   {
    "duration": 0,
    "start_time": "2025-02-12T00:59:23.416Z"
   },
   {
    "duration": 0,
    "start_time": "2025-02-12T00:59:23.417Z"
   },
   {
    "duration": 0,
    "start_time": "2025-02-12T00:59:23.418Z"
   },
   {
    "duration": 0,
    "start_time": "2025-02-12T00:59:23.419Z"
   },
   {
    "duration": 0,
    "start_time": "2025-02-12T00:59:23.421Z"
   },
   {
    "duration": 0,
    "start_time": "2025-02-12T00:59:23.423Z"
   },
   {
    "duration": 0,
    "start_time": "2025-02-12T00:59:23.425Z"
   },
   {
    "duration": 0,
    "start_time": "2025-02-12T00:59:23.425Z"
   },
   {
    "duration": 0,
    "start_time": "2025-02-12T00:59:23.427Z"
   },
   {
    "duration": 0,
    "start_time": "2025-02-12T00:59:23.428Z"
   },
   {
    "duration": 0,
    "start_time": "2025-02-12T00:59:23.429Z"
   },
   {
    "duration": 0,
    "start_time": "2025-02-12T00:59:23.430Z"
   },
   {
    "duration": 0,
    "start_time": "2025-02-12T00:59:23.431Z"
   },
   {
    "duration": 0,
    "start_time": "2025-02-12T00:59:23.432Z"
   },
   {
    "duration": 0,
    "start_time": "2025-02-12T00:59:23.432Z"
   },
   {
    "duration": 24,
    "start_time": "2025-02-12T00:59:46.974Z"
   },
   {
    "duration": 966,
    "start_time": "2025-02-12T00:59:55.124Z"
   },
   {
    "duration": 71,
    "start_time": "2025-02-12T00:59:56.092Z"
   },
   {
    "duration": 12,
    "start_time": "2025-02-12T00:59:56.165Z"
   },
   {
    "duration": 10,
    "start_time": "2025-02-12T00:59:56.179Z"
   },
   {
    "duration": 11,
    "start_time": "2025-02-12T00:59:56.211Z"
   },
   {
    "duration": 4,
    "start_time": "2025-02-12T00:59:56.224Z"
   },
   {
    "duration": 16,
    "start_time": "2025-02-12T00:59:56.229Z"
   },
   {
    "duration": 6,
    "start_time": "2025-02-12T00:59:56.247Z"
   },
   {
    "duration": 23,
    "start_time": "2025-02-12T00:59:56.255Z"
   },
   {
    "duration": 47,
    "start_time": "2025-02-12T00:59:56.280Z"
   },
   {
    "duration": 23,
    "start_time": "2025-02-12T00:59:56.328Z"
   },
   {
    "duration": 11,
    "start_time": "2025-02-12T00:59:56.352Z"
   },
   {
    "duration": 16,
    "start_time": "2025-02-12T00:59:56.365Z"
   },
   {
    "duration": 782,
    "start_time": "2025-02-12T00:59:56.385Z"
   },
   {
    "duration": 4,
    "start_time": "2025-02-12T00:59:57.169Z"
   },
   {
    "duration": 6,
    "start_time": "2025-02-12T00:59:57.174Z"
   },
   {
    "duration": 12,
    "start_time": "2025-02-12T00:59:57.212Z"
   },
   {
    "duration": 8,
    "start_time": "2025-02-12T00:59:57.226Z"
   },
   {
    "duration": 87,
    "start_time": "2025-02-12T00:59:57.235Z"
   },
   {
    "duration": 10,
    "start_time": "2025-02-12T00:59:57.324Z"
   },
   {
    "duration": 9,
    "start_time": "2025-02-12T00:59:57.336Z"
   },
   {
    "duration": 67,
    "start_time": "2025-02-12T00:59:57.347Z"
   },
   {
    "duration": 5,
    "start_time": "2025-02-12T00:59:57.418Z"
   },
   {
    "duration": 4,
    "start_time": "2025-02-12T00:59:57.425Z"
   },
   {
    "duration": 81,
    "start_time": "2025-02-12T00:59:57.431Z"
   },
   {
    "duration": 170,
    "start_time": "2025-02-12T00:59:57.516Z"
   },
   {
    "duration": 1445,
    "start_time": "2025-02-12T00:59:57.688Z"
   },
   {
    "duration": 4,
    "start_time": "2025-02-12T00:59:59.134Z"
   },
   {
    "duration": 8,
    "start_time": "2025-02-12T00:59:59.139Z"
   },
   {
    "duration": 6,
    "start_time": "2025-02-12T00:59:59.149Z"
   },
   {
    "duration": 7,
    "start_time": "2025-02-12T00:59:59.157Z"
   },
   {
    "duration": 137,
    "start_time": "2025-02-12T00:59:59.166Z"
   },
   {
    "duration": 11,
    "start_time": "2025-02-12T00:59:59.305Z"
   },
   {
    "duration": 36,
    "start_time": "2025-02-12T00:59:59.317Z"
   },
   {
    "duration": 36,
    "start_time": "2025-02-12T01:04:43.991Z"
   },
   {
    "duration": 4,
    "start_time": "2025-02-12T01:06:13.502Z"
   },
   {
    "duration": 6,
    "start_time": "2025-02-12T01:06:21.682Z"
   },
   {
    "duration": 9,
    "start_time": "2025-02-12T01:07:04.939Z"
   },
   {
    "duration": 6,
    "start_time": "2025-02-12T01:07:59.446Z"
   },
   {
    "duration": 15,
    "start_time": "2025-02-12T01:08:42.776Z"
   },
   {
    "duration": 6,
    "start_time": "2025-02-12T01:09:18.808Z"
   },
   {
    "duration": 8,
    "start_time": "2025-02-12T01:09:45.147Z"
   },
   {
    "duration": 5,
    "start_time": "2025-02-12T01:10:18.576Z"
   },
   {
    "duration": 7,
    "start_time": "2025-02-12T01:11:01.864Z"
   },
   {
    "duration": 4,
    "start_time": "2025-02-12T01:11:46.080Z"
   },
   {
    "duration": 9,
    "start_time": "2025-02-12T01:12:12.974Z"
   },
   {
    "duration": 130,
    "start_time": "2025-02-12T01:12:51.360Z"
   },
   {
    "duration": 1457,
    "start_time": "2025-02-12T01:13:34.054Z"
   },
   {
    "duration": 3,
    "start_time": "2025-02-12T01:14:20.048Z"
   },
   {
    "duration": 4,
    "start_time": "2025-02-12T01:14:23.953Z"
   },
   {
    "duration": 8,
    "start_time": "2025-02-12T01:14:48.232Z"
   },
   {
    "duration": 7,
    "start_time": "2025-02-12T01:15:18.371Z"
   },
   {
    "duration": 7,
    "start_time": "2025-02-12T01:15:55.122Z"
   },
   {
    "duration": 121,
    "start_time": "2025-02-12T01:16:22.122Z"
   },
   {
    "duration": 5,
    "start_time": "2025-02-12T01:16:49.137Z"
   },
   {
    "duration": 916,
    "start_time": "2025-02-12T01:16:57.899Z"
   },
   {
    "duration": 73,
    "start_time": "2025-02-12T01:16:58.817Z"
   },
   {
    "duration": 21,
    "start_time": "2025-02-12T01:16:58.892Z"
   },
   {
    "duration": 10,
    "start_time": "2025-02-12T01:16:58.915Z"
   },
   {
    "duration": 12,
    "start_time": "2025-02-12T01:16:58.928Z"
   },
   {
    "duration": 5,
    "start_time": "2025-02-12T01:16:58.941Z"
   },
   {
    "duration": 15,
    "start_time": "2025-02-12T01:16:58.947Z"
   },
   {
    "duration": 5,
    "start_time": "2025-02-12T01:16:58.964Z"
   },
   {
    "duration": 55,
    "start_time": "2025-02-12T01:16:58.971Z"
   },
   {
    "duration": 23,
    "start_time": "2025-02-12T01:16:59.027Z"
   },
   {
    "duration": 21,
    "start_time": "2025-02-12T01:16:59.051Z"
   },
   {
    "duration": 8,
    "start_time": "2025-02-12T01:16:59.074Z"
   },
   {
    "duration": 36,
    "start_time": "2025-02-12T01:16:59.084Z"
   },
   {
    "duration": 781,
    "start_time": "2025-02-12T01:16:59.123Z"
   },
   {
    "duration": 10,
    "start_time": "2025-02-12T01:16:59.912Z"
   },
   {
    "duration": 9,
    "start_time": "2025-02-12T01:16:59.925Z"
   },
   {
    "duration": 77,
    "start_time": "2025-02-12T01:16:59.937Z"
   },
   {
    "duration": 7,
    "start_time": "2025-02-12T01:17:00.017Z"
   },
   {
    "duration": 15,
    "start_time": "2025-02-12T01:17:00.025Z"
   },
   {
    "duration": 9,
    "start_time": "2025-02-12T01:17:00.042Z"
   },
   {
    "duration": 65,
    "start_time": "2025-02-12T01:17:00.053Z"
   },
   {
    "duration": 6,
    "start_time": "2025-02-12T01:17:00.119Z"
   },
   {
    "duration": 5,
    "start_time": "2025-02-12T01:17:00.127Z"
   },
   {
    "duration": 3,
    "start_time": "2025-02-12T01:17:00.134Z"
   },
   {
    "duration": 11,
    "start_time": "2025-02-12T01:17:00.212Z"
   },
   {
    "duration": 197,
    "start_time": "2025-02-12T01:17:00.224Z"
   },
   {
    "duration": 1484,
    "start_time": "2025-02-12T01:17:00.422Z"
   },
   {
    "duration": 4,
    "start_time": "2025-02-12T01:17:01.912Z"
   },
   {
    "duration": 11,
    "start_time": "2025-02-12T01:17:01.919Z"
   },
   {
    "duration": 7,
    "start_time": "2025-02-12T01:17:01.932Z"
   },
   {
    "duration": 7,
    "start_time": "2025-02-12T01:17:01.940Z"
   },
   {
    "duration": 128,
    "start_time": "2025-02-12T01:17:01.950Z"
   },
   {
    "duration": 4,
    "start_time": "2025-02-12T01:17:02.080Z"
   },
   {
    "duration": 47,
    "start_time": "2025-02-12T01:17:02.086Z"
   },
   {
    "duration": 3,
    "start_time": "2025-02-12T01:17:02.135Z"
   },
   {
    "duration": 4,
    "start_time": "2025-02-12T01:17:02.140Z"
   },
   {
    "duration": 7,
    "start_time": "2025-02-12T01:17:02.146Z"
   },
   {
    "duration": 6,
    "start_time": "2025-02-12T01:17:02.154Z"
   },
   {
    "duration": 14,
    "start_time": "2025-02-12T01:17:02.162Z"
   },
   {
    "duration": 44,
    "start_time": "2025-02-12T01:17:02.178Z"
   },
   {
    "duration": 8,
    "start_time": "2025-02-12T01:17:02.228Z"
   },
   {
    "duration": 75,
    "start_time": "2025-02-12T01:17:02.238Z"
   },
   {
    "duration": 7,
    "start_time": "2025-02-12T01:17:02.315Z"
   },
   {
    "duration": 3,
    "start_time": "2025-02-12T01:17:02.323Z"
   },
   {
    "duration": 8,
    "start_time": "2025-02-12T01:17:02.328Z"
   },
   {
    "duration": 235,
    "start_time": "2025-02-12T01:17:02.338Z"
   },
   {
    "duration": 1435,
    "start_time": "2025-02-12T01:17:02.576Z"
   },
   {
    "duration": 4,
    "start_time": "2025-02-12T01:17:04.013Z"
   },
   {
    "duration": 9,
    "start_time": "2025-02-12T01:17:04.018Z"
   },
   {
    "duration": 6,
    "start_time": "2025-02-12T01:17:04.029Z"
   },
   {
    "duration": 8,
    "start_time": "2025-02-12T01:17:04.036Z"
   },
   {
    "duration": 152,
    "start_time": "2025-02-12T01:17:04.046Z"
   },
   {
    "duration": 12,
    "start_time": "2025-02-12T01:17:04.200Z"
   },
   {
    "duration": 5,
    "start_time": "2025-02-12T01:22:44.883Z"
   },
   {
    "duration": 36,
    "start_time": "2025-02-12T01:24:13.957Z"
   },
   {
    "duration": 35,
    "start_time": "2025-02-12T01:25:37.391Z"
   },
   {
    "duration": 4,
    "start_time": "2025-02-12T01:25:42.372Z"
   },
   {
    "duration": 12,
    "start_time": "2025-02-12T01:25:47.347Z"
   },
   {
    "duration": 5,
    "start_time": "2025-02-12T01:26:26.981Z"
   },
   {
    "duration": 5,
    "start_time": "2025-02-12T01:26:38.446Z"
   },
   {
    "duration": 6,
    "start_time": "2025-02-12T01:26:56.457Z"
   },
   {
    "duration": 6,
    "start_time": "2025-02-12T01:27:14.090Z"
   },
   {
    "duration": 4,
    "start_time": "2025-02-12T01:27:21.444Z"
   },
   {
    "duration": 8,
    "start_time": "2025-02-12T01:27:24.481Z"
   },
   {
    "duration": 154,
    "start_time": "2025-02-12T01:27:33.777Z"
   },
   {
    "duration": 11,
    "start_time": "2025-02-12T01:27:42.207Z"
   },
   {
    "duration": 3,
    "start_time": "2025-02-12T01:27:55.884Z"
   },
   {
    "duration": 8,
    "start_time": "2025-02-12T01:28:01.012Z"
   },
   {
    "duration": 6,
    "start_time": "2025-02-12T01:28:30.993Z"
   },
   {
    "duration": 8,
    "start_time": "2025-02-12T01:28:38.380Z"
   },
   {
    "duration": 119,
    "start_time": "2025-02-12T01:28:44.327Z"
   },
   {
    "duration": 5,
    "start_time": "2025-02-12T01:28:53.413Z"
   },
   {
    "duration": 935,
    "start_time": "2025-02-12T01:29:04.568Z"
   },
   {
    "duration": 73,
    "start_time": "2025-02-12T01:29:05.506Z"
   },
   {
    "duration": 12,
    "start_time": "2025-02-12T01:29:05.581Z"
   },
   {
    "duration": 20,
    "start_time": "2025-02-12T01:29:05.595Z"
   },
   {
    "duration": 11,
    "start_time": "2025-02-12T01:29:05.617Z"
   },
   {
    "duration": 5,
    "start_time": "2025-02-12T01:29:05.629Z"
   },
   {
    "duration": 15,
    "start_time": "2025-02-12T01:29:05.635Z"
   },
   {
    "duration": 6,
    "start_time": "2025-02-12T01:29:05.652Z"
   },
   {
    "duration": 52,
    "start_time": "2025-02-12T01:29:05.661Z"
   },
   {
    "duration": 23,
    "start_time": "2025-02-12T01:29:05.714Z"
   },
   {
    "duration": 21,
    "start_time": "2025-02-12T01:29:05.739Z"
   },
   {
    "duration": 9,
    "start_time": "2025-02-12T01:29:05.762Z"
   },
   {
    "duration": 40,
    "start_time": "2025-02-12T01:29:05.772Z"
   },
   {
    "duration": 765,
    "start_time": "2025-02-12T01:29:05.816Z"
   },
   {
    "duration": 5,
    "start_time": "2025-02-12T01:29:06.583Z"
   },
   {
    "duration": 6,
    "start_time": "2025-02-12T01:29:06.611Z"
   },
   {
    "duration": 9,
    "start_time": "2025-02-12T01:29:06.619Z"
   },
   {
    "duration": 9,
    "start_time": "2025-02-12T01:29:06.630Z"
   },
   {
    "duration": 83,
    "start_time": "2025-02-12T01:29:06.641Z"
   },
   {
    "duration": 6,
    "start_time": "2025-02-12T01:29:06.726Z"
   },
   {
    "duration": 7,
    "start_time": "2025-02-12T01:29:06.733Z"
   },
   {
    "duration": 5,
    "start_time": "2025-02-12T01:29:06.742Z"
   },
   {
    "duration": 65,
    "start_time": "2025-02-12T01:29:06.749Z"
   },
   {
    "duration": 3,
    "start_time": "2025-02-12T01:29:06.817Z"
   },
   {
    "duration": 11,
    "start_time": "2025-02-12T01:29:06.823Z"
   },
   {
    "duration": 233,
    "start_time": "2025-02-12T01:29:06.836Z"
   },
   {
    "duration": 1407,
    "start_time": "2025-02-12T01:29:07.071Z"
   },
   {
    "duration": 3,
    "start_time": "2025-02-12T01:29:08.480Z"
   },
   {
    "duration": 9,
    "start_time": "2025-02-12T01:29:08.485Z"
   },
   {
    "duration": 19,
    "start_time": "2025-02-12T01:29:08.495Z"
   },
   {
    "duration": 7,
    "start_time": "2025-02-12T01:29:08.516Z"
   },
   {
    "duration": 129,
    "start_time": "2025-02-12T01:29:08.525Z"
   },
   {
    "duration": 5,
    "start_time": "2025-02-12T01:29:08.657Z"
   },
   {
    "duration": 36,
    "start_time": "2025-02-12T01:29:08.664Z"
   },
   {
    "duration": 5,
    "start_time": "2025-02-12T01:29:08.714Z"
   },
   {
    "duration": 5,
    "start_time": "2025-02-12T01:29:08.720Z"
   },
   {
    "duration": 9,
    "start_time": "2025-02-12T01:29:08.726Z"
   },
   {
    "duration": 5,
    "start_time": "2025-02-12T01:29:08.736Z"
   },
   {
    "duration": 34,
    "start_time": "2025-02-12T01:29:08.743Z"
   },
   {
    "duration": 4,
    "start_time": "2025-02-12T01:29:08.778Z"
   },
   {
    "duration": 7,
    "start_time": "2025-02-12T01:29:08.816Z"
   },
   {
    "duration": 6,
    "start_time": "2025-02-12T01:29:08.824Z"
   },
   {
    "duration": 5,
    "start_time": "2025-02-12T01:29:08.832Z"
   },
   {
    "duration": 2,
    "start_time": "2025-02-12T01:29:08.839Z"
   },
   {
    "duration": 6,
    "start_time": "2025-02-12T01:29:08.843Z"
   },
   {
    "duration": 170,
    "start_time": "2025-02-12T01:29:08.851Z"
   },
   {
    "duration": 11,
    "start_time": "2025-02-12T01:29:09.023Z"
   },
   {
    "duration": 2,
    "start_time": "2025-02-12T01:29:09.036Z"
   },
   {
    "duration": 7,
    "start_time": "2025-02-12T01:29:09.041Z"
   },
   {
    "duration": 5,
    "start_time": "2025-02-12T01:29:09.050Z"
   },
   {
    "duration": 6,
    "start_time": "2025-02-12T01:29:09.057Z"
   },
   {
    "duration": 148,
    "start_time": "2025-02-12T01:29:09.065Z"
   },
   {
    "duration": 4,
    "start_time": "2025-02-12T01:29:09.215Z"
   },
   {
    "duration": 9,
    "start_time": "2025-02-12T01:29:55.719Z"
   },
   {
    "duration": 8,
    "start_time": "2025-02-12T01:30:38.784Z"
   },
   {
    "duration": 9,
    "start_time": "2025-02-12T01:31:08.431Z"
   },
   {
    "duration": 39,
    "start_time": "2025-02-12T01:31:45.256Z"
   },
   {
    "duration": 3032,
    "start_time": "2025-02-12T15:52:21.468Z"
   },
   {
    "duration": 36,
    "start_time": "2025-02-12T15:52:24.502Z"
   },
   {
    "duration": 18,
    "start_time": "2025-02-12T15:52:24.540Z"
   },
   {
    "duration": 12,
    "start_time": "2025-02-12T15:52:24.561Z"
   },
   {
    "duration": 13,
    "start_time": "2025-02-12T15:52:24.575Z"
   },
   {
    "duration": 4,
    "start_time": "2025-02-12T15:52:24.590Z"
   },
   {
    "duration": 41,
    "start_time": "2025-02-12T15:52:24.596Z"
   },
   {
    "duration": 6,
    "start_time": "2025-02-12T15:52:24.639Z"
   },
   {
    "duration": 37,
    "start_time": "2025-02-12T15:52:24.647Z"
   },
   {
    "duration": 39,
    "start_time": "2025-02-12T15:52:24.687Z"
   },
   {
    "duration": 32,
    "start_time": "2025-02-12T15:52:24.728Z"
   },
   {
    "duration": 8,
    "start_time": "2025-02-12T15:52:24.762Z"
   },
   {
    "duration": 17,
    "start_time": "2025-02-12T15:52:24.772Z"
   },
   {
    "duration": 778,
    "start_time": "2025-02-12T15:52:24.791Z"
   },
   {
    "duration": 3,
    "start_time": "2025-02-12T15:52:25.571Z"
   },
   {
    "duration": 5,
    "start_time": "2025-02-12T15:52:25.578Z"
   },
   {
    "duration": 49,
    "start_time": "2025-02-12T15:52:25.585Z"
   },
   {
    "duration": 8,
    "start_time": "2025-02-12T15:52:25.636Z"
   },
   {
    "duration": 92,
    "start_time": "2025-02-12T15:52:25.646Z"
   },
   {
    "duration": 17,
    "start_time": "2025-02-12T15:52:25.740Z"
   },
   {
    "duration": 9,
    "start_time": "2025-02-12T15:52:25.759Z"
   },
   {
    "duration": 58,
    "start_time": "2025-02-12T15:52:25.770Z"
   },
   {
    "duration": 14,
    "start_time": "2025-02-12T15:52:25.832Z"
   },
   {
    "duration": 4,
    "start_time": "2025-02-12T15:52:25.849Z"
   },
   {
    "duration": 76,
    "start_time": "2025-02-12T15:52:25.855Z"
   },
   {
    "duration": 169,
    "start_time": "2025-02-12T15:52:25.934Z"
   },
   {
    "duration": 1885,
    "start_time": "2025-02-12T15:52:26.105Z"
   },
   {
    "duration": 5,
    "start_time": "2025-02-12T15:52:27.997Z"
   },
   {
    "duration": 9,
    "start_time": "2025-02-12T15:52:28.004Z"
   },
   {
    "duration": 10,
    "start_time": "2025-02-12T15:52:28.027Z"
   },
   {
    "duration": 8,
    "start_time": "2025-02-12T15:52:28.039Z"
   },
   {
    "duration": 247,
    "start_time": "2025-02-12T15:52:28.054Z"
   },
   {
    "duration": 5,
    "start_time": "2025-02-12T15:52:28.303Z"
   },
   {
    "duration": 54,
    "start_time": "2025-02-12T15:52:28.310Z"
   },
   {
    "duration": 5,
    "start_time": "2025-02-12T15:52:28.366Z"
   },
   {
    "duration": 7,
    "start_time": "2025-02-12T15:52:28.373Z"
   },
   {
    "duration": 13,
    "start_time": "2025-02-12T15:52:28.381Z"
   },
   {
    "duration": 5,
    "start_time": "2025-02-12T15:52:28.396Z"
   },
   {
    "duration": 68,
    "start_time": "2025-02-12T15:52:28.402Z"
   },
   {
    "duration": 6,
    "start_time": "2025-02-12T15:52:28.472Z"
   },
   {
    "duration": 5,
    "start_time": "2025-02-12T15:52:28.480Z"
   },
   {
    "duration": 11,
    "start_time": "2025-02-12T15:52:28.487Z"
   },
   {
    "duration": 216,
    "start_time": "2025-02-12T15:52:28.500Z"
   },
   {
    "duration": 16,
    "start_time": "2025-02-12T15:52:28.720Z"
   },
   {
    "duration": 12,
    "start_time": "2025-02-12T15:52:28.738Z"
   },
   {
    "duration": 8,
    "start_time": "2025-02-12T15:52:28.752Z"
   },
   {
    "duration": 9,
    "start_time": "2025-02-12T15:52:28.762Z"
   },
   {
    "duration": 185,
    "start_time": "2025-02-12T15:52:28.773Z"
   },
   {
    "duration": 7,
    "start_time": "2025-02-12T15:52:28.960Z"
   },
   {
    "duration": 23,
    "start_time": "2025-02-12T15:54:06.321Z"
   },
   {
    "duration": 7,
    "start_time": "2025-02-12T15:54:31.231Z"
   },
   {
    "duration": 9,
    "start_time": "2025-02-12T16:00:18.157Z"
   },
   {
    "duration": 8,
    "start_time": "2025-02-12T16:01:32.548Z"
   },
   {
    "duration": 930,
    "start_time": "2025-02-12T16:04:21.006Z"
   },
   {
    "duration": 73,
    "start_time": "2025-02-12T16:04:21.938Z"
   },
   {
    "duration": 16,
    "start_time": "2025-02-12T16:04:22.013Z"
   },
   {
    "duration": 14,
    "start_time": "2025-02-12T16:04:22.033Z"
   },
   {
    "duration": 15,
    "start_time": "2025-02-12T16:04:22.048Z"
   },
   {
    "duration": 3,
    "start_time": "2025-02-12T16:04:22.066Z"
   },
   {
    "duration": 15,
    "start_time": "2025-02-12T16:04:22.071Z"
   },
   {
    "duration": 6,
    "start_time": "2025-02-12T16:04:22.088Z"
   },
   {
    "duration": 65,
    "start_time": "2025-02-12T16:04:22.096Z"
   },
   {
    "duration": 25,
    "start_time": "2025-02-12T16:04:22.165Z"
   },
   {
    "duration": 36,
    "start_time": "2025-02-12T16:04:22.192Z"
   },
   {
    "duration": 11,
    "start_time": "2025-02-12T16:04:22.230Z"
   },
   {
    "duration": 27,
    "start_time": "2025-02-12T16:04:22.242Z"
   },
   {
    "duration": 815,
    "start_time": "2025-02-12T16:04:22.271Z"
   },
   {
    "duration": 7,
    "start_time": "2025-02-12T16:04:23.087Z"
   },
   {
    "duration": 46,
    "start_time": "2025-02-12T16:04:23.095Z"
   },
   {
    "duration": 15,
    "start_time": "2025-02-12T16:04:23.150Z"
   },
   {
    "duration": 26,
    "start_time": "2025-02-12T16:04:23.224Z"
   },
   {
    "duration": 11,
    "start_time": "2025-02-12T16:04:23.256Z"
   },
   {
    "duration": 7,
    "start_time": "2025-02-12T16:04:23.272Z"
   },
   {
    "duration": 57,
    "start_time": "2025-02-12T16:04:23.281Z"
   },
   {
    "duration": 6,
    "start_time": "2025-02-12T16:04:23.343Z"
   },
   {
    "duration": 80,
    "start_time": "2025-02-12T16:04:23.353Z"
   },
   {
    "duration": 164,
    "start_time": "2025-02-12T16:04:23.436Z"
   },
   {
    "duration": 1630,
    "start_time": "2025-02-12T16:04:23.602Z"
   },
   {
    "duration": 4,
    "start_time": "2025-02-12T16:04:25.234Z"
   },
   {
    "duration": 10,
    "start_time": "2025-02-12T16:04:25.240Z"
   },
   {
    "duration": 9,
    "start_time": "2025-02-12T16:04:25.254Z"
   },
   {
    "duration": 7,
    "start_time": "2025-02-12T16:04:25.264Z"
   },
   {
    "duration": 150,
    "start_time": "2025-02-12T16:04:25.273Z"
   },
   {
    "duration": 6,
    "start_time": "2025-02-12T16:04:25.426Z"
   },
   {
    "duration": 44,
    "start_time": "2025-02-12T16:04:25.439Z"
   },
   {
    "duration": 7,
    "start_time": "2025-02-12T16:04:25.484Z"
   },
   {
    "duration": 7,
    "start_time": "2025-02-12T16:04:25.492Z"
   },
   {
    "duration": 4,
    "start_time": "2025-02-12T16:04:25.501Z"
   },
   {
    "duration": 56,
    "start_time": "2025-02-12T16:04:25.507Z"
   },
   {
    "duration": 5,
    "start_time": "2025-02-12T16:04:25.565Z"
   },
   {
    "duration": 5,
    "start_time": "2025-02-12T16:04:25.573Z"
   },
   {
    "duration": 7,
    "start_time": "2025-02-12T16:04:25.579Z"
   },
   {
    "duration": 181,
    "start_time": "2025-02-12T16:04:25.588Z"
   },
   {
    "duration": 13,
    "start_time": "2025-02-12T16:04:25.771Z"
   },
   {
    "duration": 8,
    "start_time": "2025-02-12T16:04:25.785Z"
   },
   {
    "duration": 6,
    "start_time": "2025-02-12T16:04:25.795Z"
   },
   {
    "duration": 24,
    "start_time": "2025-02-12T16:04:25.803Z"
   },
   {
    "duration": 121,
    "start_time": "2025-02-12T16:04:25.830Z"
   },
   {
    "duration": 6,
    "start_time": "2025-02-12T16:04:25.953Z"
   },
   {
    "duration": 52,
    "start_time": "2025-02-12T16:05:43.606Z"
   },
   {
    "duration": 6,
    "start_time": "2025-02-12T16:05:52.916Z"
   },
   {
    "duration": 39,
    "start_time": "2025-02-12T16:06:23.783Z"
   },
   {
    "duration": 6,
    "start_time": "2025-02-12T16:07:37.665Z"
   },
   {
    "duration": 6,
    "start_time": "2025-02-12T16:09:15.778Z"
   },
   {
    "duration": 115,
    "start_time": "2025-02-12T16:09:31.252Z"
   },
   {
    "duration": 5,
    "start_time": "2025-02-12T16:09:49.721Z"
   },
   {
    "duration": 932,
    "start_time": "2025-02-12T16:10:34.160Z"
   },
   {
    "duration": 83,
    "start_time": "2025-02-12T16:10:35.097Z"
   },
   {
    "duration": 15,
    "start_time": "2025-02-12T16:10:35.182Z"
   },
   {
    "duration": 27,
    "start_time": "2025-02-12T16:10:35.200Z"
   },
   {
    "duration": 13,
    "start_time": "2025-02-12T16:10:35.229Z"
   },
   {
    "duration": 4,
    "start_time": "2025-02-12T16:10:35.244Z"
   },
   {
    "duration": 16,
    "start_time": "2025-02-12T16:10:35.249Z"
   },
   {
    "duration": 6,
    "start_time": "2025-02-12T16:10:35.266Z"
   },
   {
    "duration": 55,
    "start_time": "2025-02-12T16:10:35.273Z"
   },
   {
    "duration": 30,
    "start_time": "2025-02-12T16:10:35.331Z"
   },
   {
    "duration": 24,
    "start_time": "2025-02-12T16:10:35.362Z"
   },
   {
    "duration": 10,
    "start_time": "2025-02-12T16:10:35.388Z"
   },
   {
    "duration": 38,
    "start_time": "2025-02-12T16:10:35.400Z"
   },
   {
    "duration": 1055,
    "start_time": "2025-02-12T16:10:35.440Z"
   },
   {
    "duration": 30,
    "start_time": "2025-02-12T16:10:36.497Z"
   },
   {
    "duration": 13,
    "start_time": "2025-02-12T16:10:36.529Z"
   },
   {
    "duration": 9,
    "start_time": "2025-02-12T16:10:36.545Z"
   },
   {
    "duration": 85,
    "start_time": "2025-02-12T16:10:36.556Z"
   },
   {
    "duration": 17,
    "start_time": "2025-02-12T16:10:36.643Z"
   },
   {
    "duration": 12,
    "start_time": "2025-02-12T16:10:36.662Z"
   },
   {
    "duration": 54,
    "start_time": "2025-02-12T16:10:36.676Z"
   },
   {
    "duration": 8,
    "start_time": "2025-02-12T16:10:36.739Z"
   },
   {
    "duration": 80,
    "start_time": "2025-02-12T16:10:36.751Z"
   },
   {
    "duration": 173,
    "start_time": "2025-02-12T16:10:36.835Z"
   },
   {
    "duration": 1659,
    "start_time": "2025-02-12T16:10:37.010Z"
   },
   {
    "duration": 3,
    "start_time": "2025-02-12T16:10:38.671Z"
   },
   {
    "duration": 8,
    "start_time": "2025-02-12T16:10:38.675Z"
   },
   {
    "duration": 7,
    "start_time": "2025-02-12T16:10:38.687Z"
   },
   {
    "duration": 6,
    "start_time": "2025-02-12T16:10:38.696Z"
   },
   {
    "duration": 141,
    "start_time": "2025-02-12T16:10:38.724Z"
   },
   {
    "duration": 5,
    "start_time": "2025-02-12T16:10:38.867Z"
   },
   {
    "duration": 36,
    "start_time": "2025-02-12T16:10:38.874Z"
   },
   {
    "duration": 7,
    "start_time": "2025-02-12T16:10:38.924Z"
   },
   {
    "duration": 12,
    "start_time": "2025-02-12T16:10:38.933Z"
   },
   {
    "duration": 8,
    "start_time": "2025-02-12T16:10:38.946Z"
   },
   {
    "duration": 42,
    "start_time": "2025-02-12T16:10:38.955Z"
   },
   {
    "duration": 4,
    "start_time": "2025-02-12T16:10:38.999Z"
   },
   {
    "duration": 6,
    "start_time": "2025-02-12T16:10:39.023Z"
   },
   {
    "duration": 9,
    "start_time": "2025-02-12T16:10:39.031Z"
   },
   {
    "duration": 172,
    "start_time": "2025-02-12T16:10:39.042Z"
   },
   {
    "duration": 18,
    "start_time": "2025-02-12T16:10:39.216Z"
   },
   {
    "duration": 11,
    "start_time": "2025-02-12T16:10:39.236Z"
   },
   {
    "duration": 7,
    "start_time": "2025-02-12T16:10:39.249Z"
   },
   {
    "duration": 10,
    "start_time": "2025-02-12T16:10:39.258Z"
   },
   {
    "duration": 149,
    "start_time": "2025-02-12T16:10:39.270Z"
   },
   {
    "duration": 4,
    "start_time": "2025-02-12T16:10:39.421Z"
   },
   {
    "duration": 14,
    "start_time": "2025-02-12T16:47:57.926Z"
   },
   {
    "duration": 14,
    "start_time": "2025-02-12T16:48:32.621Z"
   },
   {
    "duration": 6,
    "start_time": "2025-02-12T16:48:49.041Z"
   },
   {
    "duration": 7,
    "start_time": "2025-02-12T16:48:56.032Z"
   },
   {
    "duration": 5,
    "start_time": "2025-02-12T16:49:09.476Z"
   },
   {
    "duration": 3,
    "start_time": "2025-02-12T16:50:37.883Z"
   },
   {
    "duration": 949,
    "start_time": "2025-02-12T17:13:08.480Z"
   },
   {
    "duration": 65,
    "start_time": "2025-02-12T17:13:09.431Z"
   },
   {
    "duration": 13,
    "start_time": "2025-02-12T17:13:09.498Z"
   },
   {
    "duration": 10,
    "start_time": "2025-02-12T17:13:09.525Z"
   },
   {
    "duration": 11,
    "start_time": "2025-02-12T17:13:09.537Z"
   },
   {
    "duration": 3,
    "start_time": "2025-02-12T17:13:09.549Z"
   },
   {
    "duration": 15,
    "start_time": "2025-02-12T17:13:09.554Z"
   },
   {
    "duration": 5,
    "start_time": "2025-02-12T17:13:09.571Z"
   },
   {
    "duration": 56,
    "start_time": "2025-02-12T17:13:09.578Z"
   },
   {
    "duration": 23,
    "start_time": "2025-02-12T17:13:09.636Z"
   },
   {
    "duration": 21,
    "start_time": "2025-02-12T17:13:09.661Z"
   },
   {
    "duration": 8,
    "start_time": "2025-02-12T17:13:09.684Z"
   },
   {
    "duration": 45,
    "start_time": "2025-02-12T17:13:09.694Z"
   },
   {
    "duration": 751,
    "start_time": "2025-02-12T17:13:09.743Z"
   },
   {
    "duration": 27,
    "start_time": "2025-02-12T17:13:10.496Z"
   },
   {
    "duration": 10,
    "start_time": "2025-02-12T17:13:10.525Z"
   },
   {
    "duration": 6,
    "start_time": "2025-02-12T17:13:10.537Z"
   },
   {
    "duration": 91,
    "start_time": "2025-02-12T17:13:10.545Z"
   },
   {
    "duration": 17,
    "start_time": "2025-02-12T17:13:10.638Z"
   },
   {
    "duration": 71,
    "start_time": "2025-02-12T17:13:10.657Z"
   },
   {
    "duration": 8,
    "start_time": "2025-02-12T17:13:10.731Z"
   },
   {
    "duration": 5,
    "start_time": "2025-02-12T17:13:10.743Z"
   },
   {
    "duration": 12,
    "start_time": "2025-02-12T17:13:10.826Z"
   },
   {
    "duration": 180,
    "start_time": "2025-02-12T17:13:10.840Z"
   },
   {
    "duration": 1426,
    "start_time": "2025-02-12T17:13:11.023Z"
   },
   {
    "duration": 3,
    "start_time": "2025-02-12T17:13:12.451Z"
   },
   {
    "duration": 8,
    "start_time": "2025-02-12T17:13:12.455Z"
   },
   {
    "duration": 5,
    "start_time": "2025-02-12T17:13:12.465Z"
   },
   {
    "duration": 7,
    "start_time": "2025-02-12T17:13:12.471Z"
   },
   {
    "duration": 139,
    "start_time": "2025-02-12T17:13:12.479Z"
   },
   {
    "duration": 6,
    "start_time": "2025-02-12T17:13:12.623Z"
   },
   {
    "duration": 35,
    "start_time": "2025-02-12T17:13:12.630Z"
   },
   {
    "duration": 7,
    "start_time": "2025-02-12T17:13:12.666Z"
   },
   {
    "duration": 7,
    "start_time": "2025-02-12T17:13:12.674Z"
   },
   {
    "duration": 6,
    "start_time": "2025-02-12T17:13:12.682Z"
   },
   {
    "duration": 72,
    "start_time": "2025-02-12T17:13:12.690Z"
   },
   {
    "duration": 5,
    "start_time": "2025-02-12T17:13:12.764Z"
   },
   {
    "duration": 5,
    "start_time": "2025-02-12T17:13:12.770Z"
   },
   {
    "duration": 7,
    "start_time": "2025-02-12T17:13:12.777Z"
   },
   {
    "duration": 164,
    "start_time": "2025-02-12T17:13:12.785Z"
   },
   {
    "duration": 11,
    "start_time": "2025-02-12T17:13:12.953Z"
   },
   {
    "duration": 9,
    "start_time": "2025-02-12T17:13:12.966Z"
   },
   {
    "duration": 6,
    "start_time": "2025-02-12T17:13:12.976Z"
   },
   {
    "duration": 7,
    "start_time": "2025-02-12T17:13:12.983Z"
   },
   {
    "duration": 154,
    "start_time": "2025-02-12T17:13:12.991Z"
   },
   {
    "duration": 5,
    "start_time": "2025-02-12T17:13:13.147Z"
   }
  ],
  "kernelspec": {
   "display_name": "Python 3 (ipykernel)",
   "language": "python",
   "name": "python3"
  },
  "language_info": {
   "codemirror_mode": {
    "name": "ipython",
    "version": 3
   },
   "file_extension": ".py",
   "mimetype": "text/x-python",
   "name": "python",
   "nbconvert_exporter": "python",
   "pygments_lexer": "ipython3",
   "version": "3.9.19"
  },
  "toc": {
   "base_numbering": 1,
   "nav_menu": {},
   "number_sections": true,
   "sideBar": true,
   "skip_h1_title": true,
   "title_cell": "Table of Contents",
   "title_sidebar": "Contents",
   "toc_cell": false,
   "toc_position": {},
   "toc_section_display": true,
   "toc_window_display": false
  }
 },
 "nbformat": 4,
 "nbformat_minor": 2
}
